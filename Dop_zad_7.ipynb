{
 "cells": [
  {
   "cell_type": "code",
   "execution_count": 2,
   "metadata": {},
   "outputs": [],
   "source": [
    "import pandas as pd \n",
    "import requests\n",
    "import seaborn as sns\n",
    "import matplotlib.pyplot as plt\n",
    "import json\n",
    "import numpy as np"
   ]
  },
  {
   "cell_type": "code",
   "execution_count": null,
   "metadata": {},
   "outputs": [],
   "source": []
  },
  {
   "cell_type": "code",
   "execution_count": null,
   "metadata": {},
   "outputs": [],
   "source": [
    "# Предположим, ваша задача – найти все произведения, связанные с подсолнухами. \n",
    "#Выполните поиск по слову \"sunflowers\". Внимательно посмотрите на формат ответа\n",
    "#и сохраните id полученных объектов в список sunflower_ids.\n",
    "#В качестве ответа выберите id объектов (3), которые присутствуют в полученном списке: lst"
   ]
  },
  {
   "cell_type": "code",
   "execution_count": 4,
   "metadata": {},
   "outputs": [],
   "source": [
    "r = requests.get('https://collectionapi.metmuseum.org/public/collection/v1/search?q=sunflowers')\n",
    "res = r.json()"
   ]
  },
  {
   "cell_type": "code",
   "execution_count": 5,
   "metadata": {},
   "outputs": [],
   "source": [
    "sunflower_ids = res['objectIDs']"
   ]
  },
  {
   "cell_type": "code",
   "execution_count": 6,
   "metadata": {},
   "outputs": [],
   "source": [
    " lst = [437329, 2032, 20149, 436524, 16822570]"
   ]
  },
  {
   "cell_type": "code",
   "execution_count": 7,
   "metadata": {},
   "outputs": [
    {
     "name": "stdout",
     "output_type": "stream",
     "text": [
      "437329\n",
      "2032\n",
      "436524\n"
     ]
    }
   ],
   "source": [
    "for i in lst:\n",
    "    if i in sunflower_ids:\n",
    "        print(i)"
   ]
  },
  {
   "cell_type": "code",
   "execution_count": null,
   "metadata": {},
   "outputs": [],
   "source": [
    "#Следущий этап – собрать информацию об этих объектах.\n",
    "#Выполните запрос для объекта 437980. Для проверки соотнесите полученные параметры с их значениями:"
   ]
  },
  {
   "cell_type": "code",
   "execution_count": 8,
   "metadata": {},
   "outputs": [],
   "source": [
    "r_test = requests.get(f'https://collectionapi.metmuseum.org/public/collection/v1/objects/437980')\n",
    "obj_test = r_test.json()\n"
   ]
  },
  {
   "cell_type": "code",
   "execution_count": 30,
   "metadata": {},
   "outputs": [
    {
     "data": {
      "text/plain": [
       "437980"
      ]
     },
     "execution_count": 30,
     "metadata": {},
     "output_type": "execute_result"
    }
   ],
   "source": [
    "obj_test['objectID']"
   ]
  },
  {
   "cell_type": "code",
   "execution_count": 31,
   "metadata": {},
   "outputs": [
    {
     "data": {
      "text/plain": [
       "'Painting'"
      ]
     },
     "execution_count": 31,
     "metadata": {},
     "output_type": "execute_result"
    }
   ],
   "source": [
    "obj_test['objectName']"
   ]
  },
  {
   "cell_type": "code",
   "execution_count": 32,
   "metadata": {},
   "outputs": [
    {
     "data": {
      "text/plain": [
       "'European Paintings'"
      ]
     },
     "execution_count": 32,
     "metadata": {},
     "output_type": "execute_result"
    }
   ],
   "source": [
    "obj_test['department']"
   ]
  },
  {
   "cell_type": "code",
   "execution_count": 34,
   "metadata": {},
   "outputs": [
    {
     "data": {
      "text/plain": [
       "'Vincent van Gogh'"
      ]
     },
     "execution_count": 34,
     "metadata": {},
     "output_type": "execute_result"
    }
   ],
   "source": [
    "obj_test['artistDisplayName']"
   ]
  },
  {
   "cell_type": "code",
   "execution_count": 33,
   "metadata": {},
   "outputs": [
    {
     "data": {
      "text/plain": [
       "'Cypresses'"
      ]
     },
     "execution_count": 33,
     "metadata": {},
     "output_type": "execute_result"
    }
   ],
   "source": [
    "obj_test['title']"
   ]
  },
  {
   "cell_type": "code",
   "execution_count": null,
   "metadata": {},
   "outputs": [],
   "source": []
  },
  {
   "cell_type": "code",
   "execution_count": null,
   "metadata": {},
   "outputs": [],
   "source": [
    "#Теперь напишите цикл, с помощью которого будет собрана информация об объектах, которые были получены на 2 шаге.\n",
    "#Результаты запишите в датафрейм, а именно – следующие параметры:\n",
    "#objectID – id объекта\n",
    "#title – название\n",
    "#artistDisplayName – автор\n",
    "#department – департамент\n",
    "#objectBeginDate – дата (начало)\n",
    "#objectEndDate – дата (конец)\n",
    "#period – название периода\n",
    "#objectName – название/категория объекта\n",
    "#culture – культура\n",
    "#Сколько объектов относятся к японской культуре? (culture –Japan)"
   ]
  },
  {
   "cell_type": "code",
   "execution_count": null,
   "metadata": {},
   "outputs": [],
   "source": [
    "\n",
    "sunflower_ids"
   ]
  },
  {
   "cell_type": "code",
   "execution_count": 65,
   "metadata": {},
   "outputs": [],
   "source": [
    "data = {'objectID': np.nan, 'title': np.nan, 'artistDisplayName': np.nan, 'department': np.nan, 'objectBeginDate': np.nan, \n",
    "             'objectEndDate': np.nan, 'period': np.nan, 'objectName': np.nan, 'culture': np.nan}"
   ]
  },
  {
   "cell_type": "code",
   "execution_count": 84,
   "metadata": {},
   "outputs": [
    {
     "data": {
      "text/html": [
       "<div>\n",
       "<style scoped>\n",
       "    .dataframe tbody tr th:only-of-type {\n",
       "        vertical-align: middle;\n",
       "    }\n",
       "\n",
       "    .dataframe tbody tr th {\n",
       "        vertical-align: top;\n",
       "    }\n",
       "\n",
       "    .dataframe thead th {\n",
       "        text-align: right;\n",
       "    }\n",
       "</style>\n",
       "<table border=\"1\" class=\"dataframe\">\n",
       "  <thead>\n",
       "    <tr style=\"text-align: right;\">\n",
       "      <th></th>\n",
       "      <th>objectID</th>\n",
       "      <th>title</th>\n",
       "      <th>artistDisplayName</th>\n",
       "      <th>department</th>\n",
       "      <th>objectBeginDate</th>\n",
       "      <th>objectEndDate</th>\n",
       "      <th>period</th>\n",
       "      <th>objectName</th>\n",
       "      <th>culture</th>\n",
       "    </tr>\n",
       "  </thead>\n",
       "  <tbody>\n",
       "  </tbody>\n",
       "</table>\n",
       "</div>"
      ],
      "text/plain": [
       "Empty DataFrame\n",
       "Columns: [objectID, title, artistDisplayName, department, objectBeginDate, objectEndDate, period, objectName, culture]\n",
       "Index: []"
      ]
     },
     "execution_count": 84,
     "metadata": {},
     "output_type": "execute_result"
    }
   ],
   "source": [
    "df1 = pd.DataFrame(data, columns = ['objectID', 'title', 'artistDisplayName', 'department', 'objectBeginDate', \n",
    "             'objectEndDate', 'period', 'objectName', 'culture'])\n",
    "df1"
   ]
  },
  {
   "cell_type": "code",
   "execution_count": 89,
   "metadata": {},
   "outputs": [
    {
     "data": {
      "text/html": [
       "<div>\n",
       "<style scoped>\n",
       "    .dataframe tbody tr th:only-of-type {\n",
       "        vertical-align: middle;\n",
       "    }\n",
       "\n",
       "    .dataframe tbody tr th {\n",
       "        vertical-align: top;\n",
       "    }\n",
       "\n",
       "    .dataframe thead th {\n",
       "        text-align: right;\n",
       "    }\n",
       "</style>\n",
       "<table border=\"1\" class=\"dataframe\">\n",
       "  <thead>\n",
       "    <tr style=\"text-align: right;\">\n",
       "      <th></th>\n",
       "      <th>objectID</th>\n",
       "      <th>title</th>\n",
       "      <th>artistDisplayName</th>\n",
       "      <th>department</th>\n",
       "      <th>objectBeginDate</th>\n",
       "      <th>objectEndDate</th>\n",
       "      <th>period</th>\n",
       "      <th>objectName</th>\n",
       "      <th>culture</th>\n",
       "    </tr>\n",
       "  </thead>\n",
       "  <tbody>\n",
       "    <tr>\n",
       "      <th>0</th>\n",
       "      <td>436524</td>\n",
       "      <td>Sunflowers</td>\n",
       "      <td>Vincent van Gogh</td>\n",
       "      <td>European Paintings</td>\n",
       "      <td>1887</td>\n",
       "      <td>1887</td>\n",
       "      <td></td>\n",
       "      <td>Painting</td>\n",
       "      <td></td>\n",
       "    </tr>\n",
       "    <tr>\n",
       "      <th>1</th>\n",
       "      <td>484935</td>\n",
       "      <td>Sunflowers</td>\n",
       "      <td>Edward McKnight Kauffer</td>\n",
       "      <td>Modern and Contemporary Art</td>\n",
       "      <td>1921</td>\n",
       "      <td>1921</td>\n",
       "      <td></td>\n",
       "      <td>Painting</td>\n",
       "      <td></td>\n",
       "    </tr>\n",
       "    <tr>\n",
       "      <th>2</th>\n",
       "      <td>437112</td>\n",
       "      <td>Bouquet of Sunflowers</td>\n",
       "      <td>Claude Monet</td>\n",
       "      <td>European Paintings</td>\n",
       "      <td>1881</td>\n",
       "      <td>1881</td>\n",
       "      <td></td>\n",
       "      <td>Painting</td>\n",
       "      <td></td>\n",
       "    </tr>\n",
       "    <tr>\n",
       "      <th>3</th>\n",
       "      <td>210191</td>\n",
       "      <td>Vase with sunflowers</td>\n",
       "      <td>Rozenburg Plateelfabriek</td>\n",
       "      <td>European Sculpture and Decorative Arts</td>\n",
       "      <td>1896</td>\n",
       "      <td>1896</td>\n",
       "      <td></td>\n",
       "      <td>Vase</td>\n",
       "      <td></td>\n",
       "    </tr>\n",
       "    <tr>\n",
       "      <th>4</th>\n",
       "      <td>431264</td>\n",
       "      <td>Sunflowers</td>\n",
       "      <td>Lily Converse</td>\n",
       "      <td>Drawings and Prints</td>\n",
       "      <td>1941</td>\n",
       "      <td>1941</td>\n",
       "      <td></td>\n",
       "      <td>Print</td>\n",
       "      <td></td>\n",
       "    </tr>\n",
       "  </tbody>\n",
       "</table>\n",
       "</div>"
      ],
      "text/plain": [
       "  objectID                  title         artistDisplayName  \\\n",
       "0   436524             Sunflowers          Vincent van Gogh   \n",
       "1   484935             Sunflowers   Edward McKnight Kauffer   \n",
       "2   437112  Bouquet of Sunflowers              Claude Monet   \n",
       "3   210191   Vase with sunflowers  Rozenburg Plateelfabriek   \n",
       "4   431264             Sunflowers             Lily Converse   \n",
       "\n",
       "                               department objectBeginDate objectEndDate  \\\n",
       "0                      European Paintings            1887          1887   \n",
       "1             Modern and Contemporary Art            1921          1921   \n",
       "2                      European Paintings            1881          1881   \n",
       "3  European Sculpture and Decorative Arts            1896          1896   \n",
       "4                     Drawings and Prints            1941          1941   \n",
       "\n",
       "  period objectName culture  \n",
       "0          Painting          \n",
       "1          Painting          \n",
       "2          Painting          \n",
       "3              Vase          \n",
       "4             Print          "
      ]
     },
     "execution_count": 89,
     "metadata": {},
     "output_type": "execute_result"
    }
   ],
   "source": [
    "for i in sunflower_ids: \n",
    "    r = requests.get(f'https://collectionapi.metmuseum.org/public/collection/v1/objects/' + str(i))\n",
    "    obj = r.json()\n",
    "    keys = ['objectID', 'title', 'artistDisplayName', 'department','objectBeginDate', 'objectEndDate', 'period', 'objectName', 'culture']\n",
    "    values = []\n",
    "    for key in keys:\n",
    "        try:\n",
    "            values.append(obj[key])\n",
    "        except:\n",
    "            values.append('')\n",
    "    df1 = df1.append(dict(zip(keys, values)), ignore_index=True)\n",
    "df1.head()\n"
   ]
  },
  {
   "cell_type": "code",
   "execution_count": 88,
   "metadata": {},
   "outputs": [
    {
     "data": {
      "text/html": [
       "<div>\n",
       "<style scoped>\n",
       "    .dataframe tbody tr th:only-of-type {\n",
       "        vertical-align: middle;\n",
       "    }\n",
       "\n",
       "    .dataframe tbody tr th {\n",
       "        vertical-align: top;\n",
       "    }\n",
       "\n",
       "    .dataframe thead th {\n",
       "        text-align: right;\n",
       "    }\n",
       "</style>\n",
       "<table border=\"1\" class=\"dataframe\">\n",
       "  <thead>\n",
       "    <tr style=\"text-align: right;\">\n",
       "      <th></th>\n",
       "      <th>objectID</th>\n",
       "      <th>title</th>\n",
       "      <th>artistDisplayName</th>\n",
       "      <th>department</th>\n",
       "      <th>objectBeginDate</th>\n",
       "      <th>objectEndDate</th>\n",
       "      <th>period</th>\n",
       "      <th>objectName</th>\n",
       "      <th>culture</th>\n",
       "    </tr>\n",
       "  </thead>\n",
       "  <tbody>\n",
       "    <tr>\n",
       "      <th>28</th>\n",
       "      <td>57922</td>\n",
       "      <td>Incense box</td>\n",
       "      <td></td>\n",
       "      <td>Asian Art</td>\n",
       "      <td>1700</td>\n",
       "      <td>1799</td>\n",
       "      <td>Edo period (1615–1868)</td>\n",
       "      <td>Incense box</td>\n",
       "      <td>Japan</td>\n",
       "    </tr>\n",
       "  </tbody>\n",
       "</table>\n",
       "</div>"
      ],
      "text/plain": [
       "   objectID        title artistDisplayName department objectBeginDate  \\\n",
       "28    57922  Incense box                    Asian Art            1700   \n",
       "\n",
       "   objectEndDate                  period   objectName culture  \n",
       "28          1799  Edo period (1615–1868)  Incense box   Japan  "
      ]
     },
     "execution_count": 88,
     "metadata": {},
     "output_type": "execute_result"
    }
   ],
   "source": [
    "df1[df1.culture == 'Japan']"
   ]
  },
  {
   "cell_type": "code",
   "execution_count": null,
   "metadata": {},
   "outputs": [],
   "source": []
  },
  {
   "cell_type": "code",
   "execution_count": null,
   "metadata": {},
   "outputs": [],
   "source": [
    "#Выполните поисковый запрос для департамента \"Asian art\" (departmentId = 6) с тегом \"cat\" \n",
    "#и запишите id объектов в cat_ids. Используйте цикл из шага 4, чтобы получить данные о первой 1000 объектов из списка.\n",
    "#В качестве ответа укажите, в каком периоде (period) было выполнено наибольшее количество работ, представленных в музее?"
   ]
  },
  {
   "cell_type": "code",
   "execution_count": 3,
   "metadata": {},
   "outputs": [],
   "source": [
    "r = requests.get('https://collectionapi.metmuseum.org/public/collection/v1/search?departmentId=6&q=cat')\n",
    "cats = r.json()"
   ]
  },
  {
   "cell_type": "code",
   "execution_count": 6,
   "metadata": {},
   "outputs": [],
   "source": [
    "cat_ids = cats['objectIDs']"
   ]
  },
  {
   "cell_type": "code",
   "execution_count": 8,
   "metadata": {},
   "outputs": [],
   "source": [
    "data = {'objectID': np.nan, 'title': np.nan, 'artistDisplayName': np.nan, 'department': np.nan, 'objectBeginDate': np.nan, \n",
    "             'objectEndDate': np.nan, 'period': np.nan, 'objectName': np.nan, 'culture': np.nan}"
   ]
  },
  {
   "cell_type": "code",
   "execution_count": 9,
   "metadata": {},
   "outputs": [
    {
     "data": {
      "text/html": [
       "<div>\n",
       "<style scoped>\n",
       "    .dataframe tbody tr th:only-of-type {\n",
       "        vertical-align: middle;\n",
       "    }\n",
       "\n",
       "    .dataframe tbody tr th {\n",
       "        vertical-align: top;\n",
       "    }\n",
       "\n",
       "    .dataframe thead th {\n",
       "        text-align: right;\n",
       "    }\n",
       "</style>\n",
       "<table border=\"1\" class=\"dataframe\">\n",
       "  <thead>\n",
       "    <tr style=\"text-align: right;\">\n",
       "      <th></th>\n",
       "      <th>objectID</th>\n",
       "      <th>title</th>\n",
       "      <th>artistDisplayName</th>\n",
       "      <th>department</th>\n",
       "      <th>objectBeginDate</th>\n",
       "      <th>objectEndDate</th>\n",
       "      <th>period</th>\n",
       "      <th>objectName</th>\n",
       "      <th>culture</th>\n",
       "    </tr>\n",
       "  </thead>\n",
       "  <tbody>\n",
       "  </tbody>\n",
       "</table>\n",
       "</div>"
      ],
      "text/plain": [
       "Empty DataFrame\n",
       "Columns: [objectID, title, artistDisplayName, department, objectBeginDate, objectEndDate, period, objectName, culture]\n",
       "Index: []"
      ]
     },
     "execution_count": 9,
     "metadata": {},
     "output_type": "execute_result"
    }
   ],
   "source": [
    "df1 = pd.DataFrame(data, columns = ['objectID', 'title', 'artistDisplayName', 'department', 'objectBeginDate', \n",
    "             'objectEndDate', 'period', 'objectName', 'culture'])\n",
    "df1"
   ]
  },
  {
   "cell_type": "code",
   "execution_count": 10,
   "metadata": {},
   "outputs": [],
   "source": [
    "for i in cat_ids: \n",
    "    r = requests.get(f'https://collectionapi.metmuseum.org/public/collection/v1/objects/' + str(i))\n",
    "    obj = r.json()\n",
    "    keys = ['objectID', 'title', 'artistDisplayName', 'department','objectBeginDate', 'objectEndDate', 'period', 'objectName', 'culture']\n",
    "    values = []\n",
    "    for key in keys:\n",
    "        try:\n",
    "            values.append(obj[key])\n",
    "        except:\n",
    "            values.append('')\n",
    "    df1 = df1.append(dict(zip(keys, values)), ignore_index=True)\n"
   ]
  },
  {
   "cell_type": "code",
   "execution_count": 16,
   "metadata": {},
   "outputs": [
    {
     "data": {
      "text/html": [
       "<div>\n",
       "<style scoped>\n",
       "    .dataframe tbody tr th:only-of-type {\n",
       "        vertical-align: middle;\n",
       "    }\n",
       "\n",
       "    .dataframe tbody tr th {\n",
       "        vertical-align: top;\n",
       "    }\n",
       "\n",
       "    .dataframe thead th {\n",
       "        text-align: right;\n",
       "    }\n",
       "</style>\n",
       "<table border=\"1\" class=\"dataframe\">\n",
       "  <thead>\n",
       "    <tr style=\"text-align: right;\">\n",
       "      <th></th>\n",
       "      <th>objectID</th>\n",
       "      <th>title</th>\n",
       "      <th>artistDisplayName</th>\n",
       "      <th>department</th>\n",
       "      <th>objectBeginDate</th>\n",
       "      <th>objectEndDate</th>\n",
       "      <th>period</th>\n",
       "      <th>objectName</th>\n",
       "      <th>culture</th>\n",
       "    </tr>\n",
       "  </thead>\n",
       "  <tbody>\n",
       "    <tr>\n",
       "      <th>0</th>\n",
       "      <td>49698</td>\n",
       "      <td>Cat</td>\n",
       "      <td>Zhang Yuguang</td>\n",
       "      <td>Asian Art</td>\n",
       "      <td>1900</td>\n",
       "      <td>1968</td>\n",
       "      <td></td>\n",
       "      <td>Folding fan mounted as an album leaf</td>\n",
       "      <td>China</td>\n",
       "    </tr>\n",
       "    <tr>\n",
       "      <th>1</th>\n",
       "      <td>49470</td>\n",
       "      <td>Cat</td>\n",
       "      <td>Wang Li</td>\n",
       "      <td>Asian Art</td>\n",
       "      <td>1813</td>\n",
       "      <td>1879</td>\n",
       "      <td>Qing dynasty (1644–1911)</td>\n",
       "      <td>Hanging scroll</td>\n",
       "      <td>China</td>\n",
       "    </tr>\n",
       "    <tr>\n",
       "      <th>2</th>\n",
       "      <td>53222</td>\n",
       "      <td>Musk Cat</td>\n",
       "      <td>Uto Gyoshi</td>\n",
       "      <td>Asian Art</td>\n",
       "      <td>1550</td>\n",
       "      <td>1599</td>\n",
       "      <td>Muromachi period (1392–1573)</td>\n",
       "      <td>Hanging scroll</td>\n",
       "      <td>Japan</td>\n",
       "    </tr>\n",
       "    <tr>\n",
       "      <th>3</th>\n",
       "      <td>36221</td>\n",
       "      <td>Cat</td>\n",
       "      <td>Wang Yun</td>\n",
       "      <td>Asian Art</td>\n",
       "      <td>1900</td>\n",
       "      <td>1933</td>\n",
       "      <td></td>\n",
       "      <td>Hanging scroll</td>\n",
       "      <td>China</td>\n",
       "    </tr>\n",
       "    <tr>\n",
       "      <th>4</th>\n",
       "      <td>60873</td>\n",
       "      <td>Head ornament</td>\n",
       "      <td></td>\n",
       "      <td>Asian Art</td>\n",
       "      <td>960</td>\n",
       "      <td>1279</td>\n",
       "      <td>Song dynasty (960–1279) or later</td>\n",
       "      <td>Head ornament</td>\n",
       "      <td>China</td>\n",
       "    </tr>\n",
       "  </tbody>\n",
       "</table>\n",
       "</div>"
      ],
      "text/plain": [
       "  objectID          title artistDisplayName department objectBeginDate  \\\n",
       "0    49698            Cat     Zhang Yuguang  Asian Art            1900   \n",
       "1    49470            Cat           Wang Li  Asian Art            1813   \n",
       "2    53222       Musk Cat        Uto Gyoshi  Asian Art            1550   \n",
       "3    36221            Cat          Wang Yun  Asian Art            1900   \n",
       "4    60873  Head ornament                    Asian Art             960   \n",
       "\n",
       "  objectEndDate                            period  \\\n",
       "0          1968                                     \n",
       "1          1879          Qing dynasty (1644–1911)   \n",
       "2          1599      Muromachi period (1392–1573)   \n",
       "3          1933                                     \n",
       "4          1279  Song dynasty (960–1279) or later   \n",
       "\n",
       "                             objectName culture  \n",
       "0  Folding fan mounted as an album leaf   China  \n",
       "1                        Hanging scroll   China  \n",
       "2                        Hanging scroll   Japan  \n",
       "3                        Hanging scroll   China  \n",
       "4                         Head ornament   China  "
      ]
     },
     "execution_count": 16,
     "metadata": {},
     "output_type": "execute_result"
    }
   ],
   "source": [
    "df1.head()"
   ]
  },
  {
   "cell_type": "code",
   "execution_count": 15,
   "metadata": {},
   "outputs": [
    {
     "data": {
      "text/plain": [
       "'Edo period (1615–1868)'"
      ]
     },
     "execution_count": 15,
     "metadata": {},
     "output_type": "execute_result"
    }
   ],
   "source": [
    "df1.period.value_counts().idxmax()"
   ]
  },
  {
   "cell_type": "code",
   "execution_count": null,
   "metadata": {},
   "outputs": [],
   "source": []
  },
  {
   "cell_type": "code",
   "execution_count": null,
   "metadata": {},
   "outputs": [],
   "source": []
  },
  {
   "cell_type": "code",
   "execution_count": null,
   "metadata": {},
   "outputs": [],
   "source": []
  },
  {
   "cell_type": "code",
   "execution_count": null,
   "metadata": {},
   "outputs": [],
   "source": []
  }
 ],
 "metadata": {
  "kernelspec": {
   "display_name": "Python 3",
   "language": "python",
   "name": "python3"
  },
  "language_info": {
   "codemirror_mode": {
    "name": "ipython",
    "version": 3
   },
   "file_extension": ".py",
   "mimetype": "text/x-python",
   "name": "python",
   "nbconvert_exporter": "python",
   "pygments_lexer": "ipython3",
   "version": "3.7.3"
  }
 },
 "nbformat": 4,
 "nbformat_minor": 4
}
