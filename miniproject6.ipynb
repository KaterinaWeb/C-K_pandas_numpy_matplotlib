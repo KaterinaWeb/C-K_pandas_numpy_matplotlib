{
 "cells": [
  {
   "cell_type": "code",
   "execution_count": 1,
   "metadata": {},
   "outputs": [],
   "source": [
    "#Перед вами данные взаимодействий с рекламными объявлениями на некоторой площадке за 6 дней. \n",
    "#И таблица с характеристиками рекламных клиентов (тех, кто разместил эти объявления).\n",
    "\n",
    "#Задачи\n",
    "#Разберемся с распределением количества показов и кликов. Посчитайте среднее количество показов и среднее количество кликов\n",
    "#на объявления за весь период (округлите до целых).\n",
    "#Нарисуйте график распределения показов на объявление за весь период.\n",
    "#Давайте посчитаем скользящее среднее показов с окном 2. Какое значение скользящего среднего получим за 6 апреля 2019 года \n",
    "#(ответ округлите до целых)?\n",
    "#Скользящее среднее часто используется для поиска аномалий в данных. Давайте попробуем нанести на один график значения \n",
    "#арифметического среднего по дням и скользящего среднего количества показов. В какой день наблюдается наибольшая разница \n",
    "#по модулю между арифметическим средним и скользящим средним? Дни, в которых скользящее среднее равно NaN, не учитываем. \n",
    "#*Напишите функцию, которая найдет проблемное объявление (с наибольшим/наименьшим количеством показов) в день, \n",
    "#в который была замечена самая большая по модулю аномалия. \n",
    "#Теперь подгрузим данные по рекламным клиентам и найдем среднее количество дней от даты создания рекламного клиента\n",
    "#и первым запуском рекламного объявления этим клиентом.\n",
    "#Вычислите конверсию из создания рекламного клиента в запуск первой рекламы в течение не более 365 дней.\n",
    "#Ответ дайте в процентах и округлите до сотых. (Фильтровать нужно по значению в формате pd.Timedelta(365, unit='d'))\n",
    "#Давайте разобъем наших клиентов по промежуткам от создания до запуска рекламного объявления, равным 30. \n",
    "#Определите, сколько уникальных клиентов запустили свое первое объявление в первый месяц своего существования (от 0 до 30 дней).\n",
    "#Список промежутков для метода pd.cut – [0, 30, 90, 180, 365]\n",
    "#А теперь – выведем на интерактивный график эти категории с количеством уникальных клиентов в них."
   ]
  },
  {
   "cell_type": "code",
   "execution_count": 84,
   "metadata": {},
   "outputs": [],
   "source": [
    "import pandas as pd\n",
    "import seaborn as sns\n",
    "import matplotlib.pyplot as plt\n",
    "%matplotlib inline\n",
    "import numpy as np"
   ]
  },
  {
   "cell_type": "code",
   "execution_count": 216,
   "metadata": {},
   "outputs": [],
   "source": [
    "df1 = pd.read_csv('/mnt/HC_Volume_18315164/home-jupyter/jupyter-e-juhimenko/shared/homeworks/python_ds_miniprojects/6/ads_data.csv')"
   ]
  },
  {
   "cell_type": "code",
   "execution_count": 217,
   "metadata": {},
   "outputs": [],
   "source": [
    "df2 = pd.read_csv('/mnt/HC_Volume_18315164/home-jupyter/jupyter-e-juhimenko/shared/homeworks/python_ds_miniprojects/6/ads_clients_data.csv')"
   ]
  },
  {
   "cell_type": "code",
   "execution_count": 218,
   "metadata": {},
   "outputs": [],
   "source": [
    "df1.date = pd.to_datetime(df1.date, format = '%Y-%m-%d')"
   ]
  },
  {
   "cell_type": "code",
   "execution_count": 219,
   "metadata": {},
   "outputs": [],
   "source": [
    "df1.time = pd.to_datetime(df1.time, format = '%Y-%m-%d %H:%M:%S')"
   ]
  },
  {
   "cell_type": "code",
   "execution_count": 25,
   "metadata": {},
   "outputs": [
    {
     "data": {
      "text/html": [
       "<div>\n",
       "<style scoped>\n",
       "    .dataframe tbody tr th:only-of-type {\n",
       "        vertical-align: middle;\n",
       "    }\n",
       "\n",
       "    .dataframe tbody tr th {\n",
       "        vertical-align: top;\n",
       "    }\n",
       "\n",
       "    .dataframe thead th {\n",
       "        text-align: right;\n",
       "    }\n",
       "</style>\n",
       "<table border=\"1\" class=\"dataframe\">\n",
       "  <thead>\n",
       "    <tr style=\"text-align: right;\">\n",
       "      <th></th>\n",
       "      <th>date</th>\n",
       "      <th>time</th>\n",
       "      <th>event</th>\n",
       "      <th>platform</th>\n",
       "      <th>ad_id</th>\n",
       "      <th>client_union_id</th>\n",
       "      <th>campaign_union_id</th>\n",
       "      <th>ad_cost_type</th>\n",
       "      <th>ad_cost</th>\n",
       "      <th>has_video</th>\n",
       "      <th>target_audience_count</th>\n",
       "    </tr>\n",
       "  </thead>\n",
       "  <tbody>\n",
       "    <tr>\n",
       "      <th>0</th>\n",
       "      <td>2019-04-01</td>\n",
       "      <td>2019-04-01 00:00:48</td>\n",
       "      <td>view</td>\n",
       "      <td>android</td>\n",
       "      <td>45061</td>\n",
       "      <td>34734</td>\n",
       "      <td>45061</td>\n",
       "      <td>CPM</td>\n",
       "      <td>200.6</td>\n",
       "      <td>0</td>\n",
       "      <td>1955269</td>\n",
       "    </tr>\n",
       "    <tr>\n",
       "      <th>1</th>\n",
       "      <td>2019-04-01</td>\n",
       "      <td>2019-04-01 00:00:48</td>\n",
       "      <td>view</td>\n",
       "      <td>web</td>\n",
       "      <td>121288</td>\n",
       "      <td>121288</td>\n",
       "      <td>121288</td>\n",
       "      <td>CPM</td>\n",
       "      <td>187.4</td>\n",
       "      <td>0</td>\n",
       "      <td>232011</td>\n",
       "    </tr>\n",
       "    <tr>\n",
       "      <th>2</th>\n",
       "      <td>2019-04-01</td>\n",
       "      <td>2019-04-01 00:01:03</td>\n",
       "      <td>view</td>\n",
       "      <td>android</td>\n",
       "      <td>102737</td>\n",
       "      <td>102535</td>\n",
       "      <td>102564</td>\n",
       "      <td>CPC</td>\n",
       "      <td>60.7</td>\n",
       "      <td>0</td>\n",
       "      <td>4410</td>\n",
       "    </tr>\n",
       "    <tr>\n",
       "      <th>3</th>\n",
       "      <td>2019-04-01</td>\n",
       "      <td>2019-04-01 00:01:03</td>\n",
       "      <td>view</td>\n",
       "      <td>android</td>\n",
       "      <td>107564</td>\n",
       "      <td>106914</td>\n",
       "      <td>107564</td>\n",
       "      <td>CPM</td>\n",
       "      <td>217.3</td>\n",
       "      <td>0</td>\n",
       "      <td>62711</td>\n",
       "    </tr>\n",
       "    <tr>\n",
       "      <th>4</th>\n",
       "      <td>2019-04-01</td>\n",
       "      <td>2019-04-01 00:01:09</td>\n",
       "      <td>view</td>\n",
       "      <td>android</td>\n",
       "      <td>4922</td>\n",
       "      <td>37</td>\n",
       "      <td>4400</td>\n",
       "      <td>CPC</td>\n",
       "      <td>60.1</td>\n",
       "      <td>0</td>\n",
       "      <td>1183501</td>\n",
       "    </tr>\n",
       "  </tbody>\n",
       "</table>\n",
       "</div>"
      ],
      "text/plain": [
       "        date                time event platform   ad_id  client_union_id  \\\n",
       "0 2019-04-01 2019-04-01 00:00:48  view  android   45061            34734   \n",
       "1 2019-04-01 2019-04-01 00:00:48  view      web  121288           121288   \n",
       "2 2019-04-01 2019-04-01 00:01:03  view  android  102737           102535   \n",
       "3 2019-04-01 2019-04-01 00:01:03  view  android  107564           106914   \n",
       "4 2019-04-01 2019-04-01 00:01:09  view  android    4922               37   \n",
       "\n",
       "   campaign_union_id ad_cost_type  ad_cost  has_video  target_audience_count  \n",
       "0              45061          CPM    200.6          0                1955269  \n",
       "1             121288          CPM    187.4          0                 232011  \n",
       "2             102564          CPC     60.7          0                   4410  \n",
       "3             107564          CPM    217.3          0                  62711  \n",
       "4               4400          CPC     60.1          0                1183501  "
      ]
     },
     "execution_count": 25,
     "metadata": {},
     "output_type": "execute_result"
    }
   ],
   "source": [
    "df1.head()"
   ]
  },
  {
   "cell_type": "code",
   "execution_count": 34,
   "metadata": {},
   "outputs": [
    {
     "data": {
      "text/html": [
       "<div>\n",
       "<style scoped>\n",
       "    .dataframe tbody tr th:only-of-type {\n",
       "        vertical-align: middle;\n",
       "    }\n",
       "\n",
       "    .dataframe tbody tr th {\n",
       "        vertical-align: top;\n",
       "    }\n",
       "\n",
       "    .dataframe thead th {\n",
       "        text-align: right;\n",
       "    }\n",
       "</style>\n",
       "<table border=\"1\" class=\"dataframe\">\n",
       "  <thead>\n",
       "    <tr style=\"text-align: right;\">\n",
       "      <th></th>\n",
       "      <th>ad_id</th>\n",
       "      <th>event</th>\n",
       "      <th>Count</th>\n",
       "    </tr>\n",
       "  </thead>\n",
       "  <tbody>\n",
       "    <tr>\n",
       "      <th>0</th>\n",
       "      <td>2</td>\n",
       "      <td>click</td>\n",
       "      <td>1</td>\n",
       "    </tr>\n",
       "    <tr>\n",
       "      <th>1</th>\n",
       "      <td>2</td>\n",
       "      <td>view</td>\n",
       "      <td>101</td>\n",
       "    </tr>\n",
       "    <tr>\n",
       "      <th>2</th>\n",
       "      <td>3</td>\n",
       "      <td>click</td>\n",
       "      <td>3</td>\n",
       "    </tr>\n",
       "    <tr>\n",
       "      <th>3</th>\n",
       "      <td>3</td>\n",
       "      <td>view</td>\n",
       "      <td>184</td>\n",
       "    </tr>\n",
       "    <tr>\n",
       "      <th>4</th>\n",
       "      <td>1902</td>\n",
       "      <td>click</td>\n",
       "      <td>1</td>\n",
       "    </tr>\n",
       "  </tbody>\n",
       "</table>\n",
       "</div>"
      ],
      "text/plain": [
       "   ad_id  event  Count\n",
       "0      2  click      1\n",
       "1      2   view    101\n",
       "2      3  click      3\n",
       "3      3   view    184\n",
       "4   1902  click      1"
      ]
     },
     "execution_count": 34,
     "metadata": {},
     "output_type": "execute_result"
    }
   ],
   "source": [
    "df_event = df1.groupby(['ad_id', 'event'], as_index = [False, False]).agg({'event':'count'}).rename(columns={'event': 'Count'}).reset_index()\n",
    "df_event.head()"
   ]
  },
  {
   "cell_type": "code",
   "execution_count": 103,
   "metadata": {},
   "outputs": [],
   "source": [
    "df_pivot = df_event.pivot(index = 'ad_id', columns = 'event', values = 'Count')\n",
    "df_pivot = df_pivot.fillna(0).reset_index()"
   ]
  },
  {
   "cell_type": "code",
   "execution_count": 104,
   "metadata": {},
   "outputs": [],
   "source": [
    "df_pivot.view = df_pivot.view.astype('int')\n",
    "df_pivot.click = df_pivot.click.astype('int')"
   ]
  },
  {
   "cell_type": "code",
   "execution_count": 131,
   "metadata": {},
   "outputs": [],
   "source": [
    "df_v = df_pivot[df_pivot.view > 0]"
   ]
  },
  {
   "cell_type": "code",
   "execution_count": 132,
   "metadata": {},
   "outputs": [
    {
     "name": "stderr",
     "output_type": "stream",
     "text": [
      "/opt/tljh/user/lib/python3.7/site-packages/ipykernel_launcher.py:1: SettingWithCopyWarning: \n",
      "A value is trying to be set on a copy of a slice from a DataFrame.\n",
      "Try using .loc[row_indexer,col_indexer] = value instead\n",
      "\n",
      "See the caveats in the documentation: https://pandas.pydata.org/pandas-docs/stable/user_guide/indexing.html#returning-a-view-versus-a-copy\n",
      "  \"\"\"Entry point for launching an IPython kernel.\n"
     ]
    },
    {
     "data": {
      "text/html": [
       "<div>\n",
       "<style scoped>\n",
       "    .dataframe tbody tr th:only-of-type {\n",
       "        vertical-align: middle;\n",
       "    }\n",
       "\n",
       "    .dataframe tbody tr th {\n",
       "        vertical-align: top;\n",
       "    }\n",
       "\n",
       "    .dataframe thead th {\n",
       "        text-align: right;\n",
       "    }\n",
       "</style>\n",
       "<table border=\"1\" class=\"dataframe\">\n",
       "  <thead>\n",
       "    <tr style=\"text-align: right;\">\n",
       "      <th>event</th>\n",
       "      <th>ad_id</th>\n",
       "      <th>click</th>\n",
       "      <th>view</th>\n",
       "      <th>view_lg</th>\n",
       "    </tr>\n",
       "  </thead>\n",
       "  <tbody>\n",
       "    <tr>\n",
       "      <th>0</th>\n",
       "      <td>2</td>\n",
       "      <td>1</td>\n",
       "      <td>101</td>\n",
       "      <td>4.615121</td>\n",
       "    </tr>\n",
       "    <tr>\n",
       "      <th>1</th>\n",
       "      <td>3</td>\n",
       "      <td>3</td>\n",
       "      <td>184</td>\n",
       "      <td>5.214936</td>\n",
       "    </tr>\n",
       "    <tr>\n",
       "      <th>2</th>\n",
       "      <td>1902</td>\n",
       "      <td>1</td>\n",
       "      <td>41</td>\n",
       "      <td>3.713572</td>\n",
       "    </tr>\n",
       "    <tr>\n",
       "      <th>3</th>\n",
       "      <td>2064</td>\n",
       "      <td>0</td>\n",
       "      <td>35</td>\n",
       "      <td>3.555348</td>\n",
       "    </tr>\n",
       "    <tr>\n",
       "      <th>4</th>\n",
       "      <td>2132</td>\n",
       "      <td>1</td>\n",
       "      <td>58</td>\n",
       "      <td>4.060443</td>\n",
       "    </tr>\n",
       "  </tbody>\n",
       "</table>\n",
       "</div>"
      ],
      "text/plain": [
       "event  ad_id  click  view   view_lg\n",
       "0          2      1   101  4.615121\n",
       "1          3      3   184  5.214936\n",
       "2       1902      1    41  3.713572\n",
       "3       2064      0    35  3.555348\n",
       "4       2132      1    58  4.060443"
      ]
     },
     "execution_count": 132,
     "metadata": {},
     "output_type": "execute_result"
    }
   ],
   "source": [
    "df_v['view_lg'] = np.log(df_v.view)\n",
    "df_v.head()"
   ]
  },
  {
   "cell_type": "code",
   "execution_count": 120,
   "metadata": {},
   "outputs": [],
   "source": [
    "sns.set(\n",
    "    font_scale=2,\n",
    "    style=\"whitegrid\",\n",
    "    rc={'figure.figsize':(20,7)}\n",
    "        )"
   ]
  },
  {
   "cell_type": "code",
   "execution_count": 130,
   "metadata": {},
   "outputs": [
    {
     "name": "stderr",
     "output_type": "stream",
     "text": [
      "/opt/tljh/user/lib/python3.7/site-packages/seaborn/distributions.py:2557: FutureWarning: `distplot` is a deprecated function and will be removed in a future version. Please adapt your code to use either `displot` (a figure-level function with similar flexibility) or `histplot` (an axes-level function for histograms).\n",
      "  warnings.warn(msg, FutureWarning)\n"
     ]
    },
    {
     "data": {
      "text/plain": [
       "<matplotlib.axes._subplots.AxesSubplot at 0x7f3fec17e1d0>"
      ]
     },
     "execution_count": 130,
     "metadata": {},
     "output_type": "execute_result"
    },
    {
     "data": {
      "image/png": "[encoded data removed]",
      "text/plain": [
       "<Figure size 1440x504 with 1 Axes>"
      ]
     },
     "metadata": {},
     "output_type": "display_data"
    }
   ],
   "source": [
    "sns.distplot(df_v.view_lg)"
   ]
  },
  {
   "cell_type": "code",
   "execution_count": null,
   "metadata": {},
   "outputs": [],
   "source": []
  },
  {
   "cell_type": "code",
   "execution_count": 134,
   "metadata": {},
   "outputs": [
    {
     "data": {
      "text/html": [
       "<div>\n",
       "<style scoped>\n",
       "    .dataframe tbody tr th:only-of-type {\n",
       "        vertical-align: middle;\n",
       "    }\n",
       "\n",
       "    .dataframe tbody tr th {\n",
       "        vertical-align: top;\n",
       "    }\n",
       "\n",
       "    .dataframe thead th {\n",
       "        text-align: right;\n",
       "    }\n",
       "</style>\n",
       "<table border=\"1\" class=\"dataframe\">\n",
       "  <thead>\n",
       "    <tr style=\"text-align: right;\">\n",
       "      <th></th>\n",
       "      <th>date</th>\n",
       "      <th>time</th>\n",
       "      <th>event</th>\n",
       "      <th>platform</th>\n",
       "      <th>ad_id</th>\n",
       "      <th>client_union_id</th>\n",
       "      <th>campaign_union_id</th>\n",
       "      <th>ad_cost_type</th>\n",
       "      <th>ad_cost</th>\n",
       "      <th>has_video</th>\n",
       "      <th>target_audience_count</th>\n",
       "    </tr>\n",
       "  </thead>\n",
       "  <tbody>\n",
       "    <tr>\n",
       "      <th>0</th>\n",
       "      <td>2019-04-01</td>\n",
       "      <td>2019-04-01 00:00:48</td>\n",
       "      <td>view</td>\n",
       "      <td>android</td>\n",
       "      <td>45061</td>\n",
       "      <td>34734</td>\n",
       "      <td>45061</td>\n",
       "      <td>CPM</td>\n",
       "      <td>200.6</td>\n",
       "      <td>0</td>\n",
       "      <td>1955269</td>\n",
       "    </tr>\n",
       "    <tr>\n",
       "      <th>1</th>\n",
       "      <td>2019-04-01</td>\n",
       "      <td>2019-04-01 00:00:48</td>\n",
       "      <td>view</td>\n",
       "      <td>web</td>\n",
       "      <td>121288</td>\n",
       "      <td>121288</td>\n",
       "      <td>121288</td>\n",
       "      <td>CPM</td>\n",
       "      <td>187.4</td>\n",
       "      <td>0</td>\n",
       "      <td>232011</td>\n",
       "    </tr>\n",
       "    <tr>\n",
       "      <th>2</th>\n",
       "      <td>2019-04-01</td>\n",
       "      <td>2019-04-01 00:01:03</td>\n",
       "      <td>view</td>\n",
       "      <td>android</td>\n",
       "      <td>102737</td>\n",
       "      <td>102535</td>\n",
       "      <td>102564</td>\n",
       "      <td>CPC</td>\n",
       "      <td>60.7</td>\n",
       "      <td>0</td>\n",
       "      <td>4410</td>\n",
       "    </tr>\n",
       "    <tr>\n",
       "      <th>3</th>\n",
       "      <td>2019-04-01</td>\n",
       "      <td>2019-04-01 00:01:03</td>\n",
       "      <td>view</td>\n",
       "      <td>android</td>\n",
       "      <td>107564</td>\n",
       "      <td>106914</td>\n",
       "      <td>107564</td>\n",
       "      <td>CPM</td>\n",
       "      <td>217.3</td>\n",
       "      <td>0</td>\n",
       "      <td>62711</td>\n",
       "    </tr>\n",
       "    <tr>\n",
       "      <th>4</th>\n",
       "      <td>2019-04-01</td>\n",
       "      <td>2019-04-01 00:01:09</td>\n",
       "      <td>view</td>\n",
       "      <td>android</td>\n",
       "      <td>4922</td>\n",
       "      <td>37</td>\n",
       "      <td>4400</td>\n",
       "      <td>CPC</td>\n",
       "      <td>60.1</td>\n",
       "      <td>0</td>\n",
       "      <td>1183501</td>\n",
       "    </tr>\n",
       "  </tbody>\n",
       "</table>\n",
       "</div>"
      ],
      "text/plain": [
       "        date                time event platform   ad_id  client_union_id  \\\n",
       "0 2019-04-01 2019-04-01 00:00:48  view  android   45061            34734   \n",
       "1 2019-04-01 2019-04-01 00:00:48  view      web  121288           121288   \n",
       "2 2019-04-01 2019-04-01 00:01:03  view  android  102737           102535   \n",
       "3 2019-04-01 2019-04-01 00:01:03  view  android  107564           106914   \n",
       "4 2019-04-01 2019-04-01 00:01:09  view  android    4922               37   \n",
       "\n",
       "   campaign_union_id ad_cost_type  ad_cost  has_video  target_audience_count  \n",
       "0              45061          CPM    200.6          0                1955269  \n",
       "1             121288          CPM    187.4          0                 232011  \n",
       "2             102564          CPC     60.7          0                   4410  \n",
       "3             107564          CPM    217.3          0                  62711  \n",
       "4               4400          CPC     60.1          0                1183501  "
      ]
     },
     "execution_count": 134,
     "metadata": {},
     "output_type": "execute_result"
    }
   ],
   "source": [
    "df1.head()"
   ]
  },
  {
   "cell_type": "code",
   "execution_count": 160,
   "metadata": {},
   "outputs": [],
   "source": [
    "df_group = df1.query('event == \"view\"').groupby(['ad_id','date', 'event'], as_index = [False, False, False]) \\\n",
    "    .agg({'event': 'count'}) \\\n",
    "    .rename(columns = {'event': 'Count'}).reset_index()"
   ]
  },
  {
   "cell_type": "code",
   "execution_count": 161,
   "metadata": {},
   "outputs": [
    {
     "data": {
      "text/html": [
       "<div>\n",
       "<style scoped>\n",
       "    .dataframe tbody tr th:only-of-type {\n",
       "        vertical-align: middle;\n",
       "    }\n",
       "\n",
       "    .dataframe tbody tr th {\n",
       "        vertical-align: top;\n",
       "    }\n",
       "\n",
       "    .dataframe thead th {\n",
       "        text-align: right;\n",
       "    }\n",
       "</style>\n",
       "<table border=\"1\" class=\"dataframe\">\n",
       "  <thead>\n",
       "    <tr style=\"text-align: right;\">\n",
       "      <th></th>\n",
       "      <th>ad_id</th>\n",
       "      <th>date</th>\n",
       "      <th>event</th>\n",
       "      <th>Count</th>\n",
       "    </tr>\n",
       "  </thead>\n",
       "  <tbody>\n",
       "    <tr>\n",
       "      <th>0</th>\n",
       "      <td>2</td>\n",
       "      <td>2019-04-01</td>\n",
       "      <td>view</td>\n",
       "      <td>83</td>\n",
       "    </tr>\n",
       "    <tr>\n",
       "      <th>1</th>\n",
       "      <td>2</td>\n",
       "      <td>2019-04-02</td>\n",
       "      <td>view</td>\n",
       "      <td>18</td>\n",
       "    </tr>\n",
       "    <tr>\n",
       "      <th>2</th>\n",
       "      <td>3</td>\n",
       "      <td>2019-04-01</td>\n",
       "      <td>view</td>\n",
       "      <td>158</td>\n",
       "    </tr>\n",
       "    <tr>\n",
       "      <th>3</th>\n",
       "      <td>3</td>\n",
       "      <td>2019-04-02</td>\n",
       "      <td>view</td>\n",
       "      <td>26</td>\n",
       "    </tr>\n",
       "    <tr>\n",
       "      <th>4</th>\n",
       "      <td>1902</td>\n",
       "      <td>2019-04-03</td>\n",
       "      <td>view</td>\n",
       "      <td>34</td>\n",
       "    </tr>\n",
       "  </tbody>\n",
       "</table>\n",
       "</div>"
      ],
      "text/plain": [
       "   ad_id       date event  Count\n",
       "0      2 2019-04-01  view     83\n",
       "1      2 2019-04-02  view     18\n",
       "2      3 2019-04-01  view    158\n",
       "3      3 2019-04-02  view     26\n",
       "4   1902 2019-04-03  view     34"
      ]
     },
     "execution_count": 161,
     "metadata": {},
     "output_type": "execute_result"
    }
   ],
   "source": [
    "df_group.head()"
   ]
  },
  {
   "cell_type": "code",
   "execution_count": 176,
   "metadata": {},
   "outputs": [],
   "source": [
    "dff1 = df_group.groupby('date').agg({'Count': 'mean'}).round(0)"
   ]
  },
  {
   "cell_type": "code",
   "execution_count": 177,
   "metadata": {},
   "outputs": [],
   "source": [
    "dff2 = df_group.groupby('date').agg({'Count': 'mean'}).rolling(2).mean().round(0)"
   ]
  },
  {
   "cell_type": "code",
   "execution_count": 186,
   "metadata": {},
   "outputs": [
    {
     "data": {
      "text/plain": [
       "<matplotlib.axes._subplots.AxesSubplot at 0x7f3fe7ba2ef0>"
      ]
     },
     "execution_count": 186,
     "metadata": {},
     "output_type": "execute_result"
    },
    {
     "data": {
      "image/png": "[encoded data removed]",
      "text/plain": [
       "<Figure size 1440x504 with 1 Axes>"
      ]
     },
     "metadata": {},
     "output_type": "display_data"
    }
   ],
   "source": [
    "sns.lineplot(data = dff1, y = 'Count', x =dff1.index, color = 'red')\n",
    "sns.lineplot(data = dff2, y = 'Count', x =dff2.index, color = 'darkblue')\n"
   ]
  },
  {
   "cell_type": "code",
   "execution_count": 185,
   "metadata": {},
   "outputs": [
    {
     "data": {
      "text/html": [
       "<div>\n",
       "<style scoped>\n",
       "    .dataframe tbody tr th:only-of-type {\n",
       "        vertical-align: middle;\n",
       "    }\n",
       "\n",
       "    .dataframe tbody tr th {\n",
       "        vertical-align: top;\n",
       "    }\n",
       "\n",
       "    .dataframe thead th {\n",
       "        text-align: right;\n",
       "    }\n",
       "</style>\n",
       "<table border=\"1\" class=\"dataframe\">\n",
       "  <thead>\n",
       "    <tr style=\"text-align: right;\">\n",
       "      <th></th>\n",
       "      <th>Count</th>\n",
       "    </tr>\n",
       "    <tr>\n",
       "      <th>date</th>\n",
       "      <th></th>\n",
       "    </tr>\n",
       "  </thead>\n",
       "  <tbody>\n",
       "    <tr>\n",
       "      <th>2019-04-01</th>\n",
       "      <td>NaN</td>\n",
       "    </tr>\n",
       "    <tr>\n",
       "      <th>2019-04-02</th>\n",
       "      <td>-8.0</td>\n",
       "    </tr>\n",
       "    <tr>\n",
       "      <th>2019-04-03</th>\n",
       "      <td>13.0</td>\n",
       "    </tr>\n",
       "    <tr>\n",
       "      <th>2019-04-04</th>\n",
       "      <td>256.0</td>\n",
       "    </tr>\n",
       "    <tr>\n",
       "      <th>2019-04-05</th>\n",
       "      <td>121.0</td>\n",
       "    </tr>\n",
       "    <tr>\n",
       "      <th>2019-04-06</th>\n",
       "      <td>-321.0</td>\n",
       "    </tr>\n",
       "  </tbody>\n",
       "</table>\n",
       "</div>"
      ],
      "text/plain": [
       "            Count\n",
       "date             \n",
       "2019-04-01    NaN\n",
       "2019-04-02   -8.0\n",
       "2019-04-03   13.0\n",
       "2019-04-04  256.0\n",
       "2019-04-05  121.0\n",
       "2019-04-06 -321.0"
      ]
     },
     "execution_count": 185,
     "metadata": {},
     "output_type": "execute_result"
    }
   ],
   "source": [
    "dff1 - dff2"
   ]
  },
  {
   "cell_type": "code",
   "execution_count": null,
   "metadata": {},
   "outputs": [],
   "source": []
  },
  {
   "cell_type": "code",
   "execution_count": 220,
   "metadata": {},
   "outputs": [
    {
     "data": {
      "text/html": [
       "<div>\n",
       "<style scoped>\n",
       "    .dataframe tbody tr th:only-of-type {\n",
       "        vertical-align: middle;\n",
       "    }\n",
       "\n",
       "    .dataframe tbody tr th {\n",
       "        vertical-align: top;\n",
       "    }\n",
       "\n",
       "    .dataframe thead th {\n",
       "        text-align: right;\n",
       "    }\n",
       "</style>\n",
       "<table border=\"1\" class=\"dataframe\">\n",
       "  <thead>\n",
       "    <tr style=\"text-align: right;\">\n",
       "      <th></th>\n",
       "      <th>date</th>\n",
       "      <th>time</th>\n",
       "      <th>event</th>\n",
       "      <th>platform</th>\n",
       "      <th>ad_id</th>\n",
       "      <th>client_union_id</th>\n",
       "      <th>campaign_union_id</th>\n",
       "      <th>ad_cost_type</th>\n",
       "      <th>ad_cost</th>\n",
       "      <th>has_video</th>\n",
       "      <th>target_audience_count</th>\n",
       "    </tr>\n",
       "  </thead>\n",
       "  <tbody>\n",
       "    <tr>\n",
       "      <th>0</th>\n",
       "      <td>2019-04-01</td>\n",
       "      <td>2019-04-01 00:00:48</td>\n",
       "      <td>view</td>\n",
       "      <td>android</td>\n",
       "      <td>45061</td>\n",
       "      <td>34734</td>\n",
       "      <td>45061</td>\n",
       "      <td>CPM</td>\n",
       "      <td>200.6</td>\n",
       "      <td>0</td>\n",
       "      <td>1955269</td>\n",
       "    </tr>\n",
       "    <tr>\n",
       "      <th>1</th>\n",
       "      <td>2019-04-01</td>\n",
       "      <td>2019-04-01 00:00:48</td>\n",
       "      <td>view</td>\n",
       "      <td>web</td>\n",
       "      <td>121288</td>\n",
       "      <td>121288</td>\n",
       "      <td>121288</td>\n",
       "      <td>CPM</td>\n",
       "      <td>187.4</td>\n",
       "      <td>0</td>\n",
       "      <td>232011</td>\n",
       "    </tr>\n",
       "    <tr>\n",
       "      <th>2</th>\n",
       "      <td>2019-04-01</td>\n",
       "      <td>2019-04-01 00:01:03</td>\n",
       "      <td>view</td>\n",
       "      <td>android</td>\n",
       "      <td>102737</td>\n",
       "      <td>102535</td>\n",
       "      <td>102564</td>\n",
       "      <td>CPC</td>\n",
       "      <td>60.7</td>\n",
       "      <td>0</td>\n",
       "      <td>4410</td>\n",
       "    </tr>\n",
       "    <tr>\n",
       "      <th>3</th>\n",
       "      <td>2019-04-01</td>\n",
       "      <td>2019-04-01 00:01:03</td>\n",
       "      <td>view</td>\n",
       "      <td>android</td>\n",
       "      <td>107564</td>\n",
       "      <td>106914</td>\n",
       "      <td>107564</td>\n",
       "      <td>CPM</td>\n",
       "      <td>217.3</td>\n",
       "      <td>0</td>\n",
       "      <td>62711</td>\n",
       "    </tr>\n",
       "    <tr>\n",
       "      <th>4</th>\n",
       "      <td>2019-04-01</td>\n",
       "      <td>2019-04-01 00:01:09</td>\n",
       "      <td>view</td>\n",
       "      <td>android</td>\n",
       "      <td>4922</td>\n",
       "      <td>37</td>\n",
       "      <td>4400</td>\n",
       "      <td>CPC</td>\n",
       "      <td>60.1</td>\n",
       "      <td>0</td>\n",
       "      <td>1183501</td>\n",
       "    </tr>\n",
       "  </tbody>\n",
       "</table>\n",
       "</div>"
      ],
      "text/plain": [
       "        date                time event platform   ad_id  client_union_id  \\\n",
       "0 2019-04-01 2019-04-01 00:00:48  view  android   45061            34734   \n",
       "1 2019-04-01 2019-04-01 00:00:48  view      web  121288           121288   \n",
       "2 2019-04-01 2019-04-01 00:01:03  view  android  102737           102535   \n",
       "3 2019-04-01 2019-04-01 00:01:03  view  android  107564           106914   \n",
       "4 2019-04-01 2019-04-01 00:01:09  view  android    4922               37   \n",
       "\n",
       "   campaign_union_id ad_cost_type  ad_cost  has_video  target_audience_count  \n",
       "0              45061          CPM    200.6          0                1955269  \n",
       "1             121288          CPM    187.4          0                 232011  \n",
       "2             102564          CPC     60.7          0                   4410  \n",
       "3             107564          CPM    217.3          0                  62711  \n",
       "4               4400          CPC     60.1          0                1183501  "
      ]
     },
     "execution_count": 220,
     "metadata": {},
     "output_type": "execute_result"
    }
   ],
   "source": [
    "df1.head()"
   ]
  },
  {
   "cell_type": "code",
   "execution_count": 221,
   "metadata": {},
   "outputs": [
    {
     "data": {
      "text/html": [
       "<div>\n",
       "<style scoped>\n",
       "    .dataframe tbody tr th:only-of-type {\n",
       "        vertical-align: middle;\n",
       "    }\n",
       "\n",
       "    .dataframe tbody tr th {\n",
       "        vertical-align: top;\n",
       "    }\n",
       "\n",
       "    .dataframe thead th {\n",
       "        text-align: right;\n",
       "    }\n",
       "</style>\n",
       "<table border=\"1\" class=\"dataframe\">\n",
       "  <thead>\n",
       "    <tr style=\"text-align: right;\">\n",
       "      <th></th>\n",
       "      <th>date</th>\n",
       "      <th>client_union_id</th>\n",
       "      <th>community_id</th>\n",
       "      <th>create_date</th>\n",
       "    </tr>\n",
       "  </thead>\n",
       "  <tbody>\n",
       "    <tr>\n",
       "      <th>0</th>\n",
       "      <td>2020-05-07</td>\n",
       "      <td>1</td>\n",
       "      <td>-130371893</td>\n",
       "      <td>2018-12-24</td>\n",
       "    </tr>\n",
       "    <tr>\n",
       "      <th>1</th>\n",
       "      <td>2020-05-07</td>\n",
       "      <td>2</td>\n",
       "      <td>-130304626</td>\n",
       "      <td>2019-02-10</td>\n",
       "    </tr>\n",
       "    <tr>\n",
       "      <th>2</th>\n",
       "      <td>2020-05-07</td>\n",
       "      <td>3</td>\n",
       "      <td>-130462599</td>\n",
       "      <td>2019-01-25</td>\n",
       "    </tr>\n",
       "    <tr>\n",
       "      <th>3</th>\n",
       "      <td>2020-05-07</td>\n",
       "      <td>4</td>\n",
       "      <td>-130574300</td>\n",
       "      <td>2018-12-09</td>\n",
       "    </tr>\n",
       "    <tr>\n",
       "      <th>4</th>\n",
       "      <td>2020-05-07</td>\n",
       "      <td>5</td>\n",
       "      <td>-130292358</td>\n",
       "      <td>2019-01-08</td>\n",
       "    </tr>\n",
       "  </tbody>\n",
       "</table>\n",
       "</div>"
      ],
      "text/plain": [
       "         date  client_union_id  community_id create_date\n",
       "0  2020-05-07                1    -130371893  2018-12-24\n",
       "1  2020-05-07                2    -130304626  2019-02-10\n",
       "2  2020-05-07                3    -130462599  2019-01-25\n",
       "3  2020-05-07                4    -130574300  2018-12-09\n",
       "4  2020-05-07                5    -130292358  2019-01-08"
      ]
     },
     "execution_count": 221,
     "metadata": {},
     "output_type": "execute_result"
    }
   ],
   "source": [
    "df2.head()"
   ]
  },
  {
   "cell_type": "code",
   "execution_count": 222,
   "metadata": {},
   "outputs": [],
   "source": [
    "df2.date = pd.to_datetime(df2.date, format = '%Y-%m-%d')\n",
    "df1 = df1.rename(columns = {'date':'date_rekl'})"
   ]
  },
  {
   "cell_type": "code",
   "execution_count": 197,
   "metadata": {},
   "outputs": [
    {
     "data": {
      "text/plain": [
       "date_rekl          datetime64[ns]\n",
       "client_union_id             int64\n",
       "community_id                int64\n",
       "create_date                object\n",
       "dtype: object"
      ]
     },
     "execution_count": 197,
     "metadata": {},
     "output_type": "execute_result"
    }
   ],
   "source": [
    "df2.dtypes"
   ]
  },
  {
   "cell_type": "code",
   "execution_count": 223,
   "metadata": {},
   "outputs": [],
   "source": [
    "df_b = df2.merge(df1, on = ['client_union_id'])\n",
    "df_b.create_date = pd.to_datetime(df_b.create_date, format = '%Y-%m-%d')"
   ]
  },
  {
   "cell_type": "code",
   "execution_count": 224,
   "metadata": {},
   "outputs": [
    {
     "data": {
      "text/html": [
       "<div>\n",
       "<style scoped>\n",
       "    .dataframe tbody tr th:only-of-type {\n",
       "        vertical-align: middle;\n",
       "    }\n",
       "\n",
       "    .dataframe tbody tr th {\n",
       "        vertical-align: top;\n",
       "    }\n",
       "\n",
       "    .dataframe thead th {\n",
       "        text-align: right;\n",
       "    }\n",
       "</style>\n",
       "<table border=\"1\" class=\"dataframe\">\n",
       "  <thead>\n",
       "    <tr style=\"text-align: right;\">\n",
       "      <th></th>\n",
       "      <th>date</th>\n",
       "      <th>client_union_id</th>\n",
       "      <th>community_id</th>\n",
       "      <th>create_date</th>\n",
       "      <th>date_rekl</th>\n",
       "      <th>time</th>\n",
       "      <th>event</th>\n",
       "      <th>platform</th>\n",
       "      <th>ad_id</th>\n",
       "      <th>campaign_union_id</th>\n",
       "      <th>ad_cost_type</th>\n",
       "      <th>ad_cost</th>\n",
       "      <th>has_video</th>\n",
       "      <th>target_audience_count</th>\n",
       "      <th>date_dif</th>\n",
       "    </tr>\n",
       "  </thead>\n",
       "  <tbody>\n",
       "    <tr>\n",
       "      <th>0</th>\n",
       "      <td>2020-05-07</td>\n",
       "      <td>1</td>\n",
       "      <td>-130371893</td>\n",
       "      <td>2018-12-24</td>\n",
       "      <td>2019-04-01</td>\n",
       "      <td>2019-04-01 00:08:51</td>\n",
       "      <td>view</td>\n",
       "      <td>android</td>\n",
       "      <td>3</td>\n",
       "      <td>1</td>\n",
       "      <td>CPC</td>\n",
       "      <td>46.7</td>\n",
       "      <td>0</td>\n",
       "      <td>45035</td>\n",
       "      <td>98 days</td>\n",
       "    </tr>\n",
       "    <tr>\n",
       "      <th>1</th>\n",
       "      <td>2020-05-07</td>\n",
       "      <td>1</td>\n",
       "      <td>-130371893</td>\n",
       "      <td>2018-12-24</td>\n",
       "      <td>2019-04-01</td>\n",
       "      <td>2019-04-01 00:09:36</td>\n",
       "      <td>view</td>\n",
       "      <td>ios</td>\n",
       "      <td>3</td>\n",
       "      <td>1</td>\n",
       "      <td>CPC</td>\n",
       "      <td>46.7</td>\n",
       "      <td>0</td>\n",
       "      <td>45035</td>\n",
       "      <td>98 days</td>\n",
       "    </tr>\n",
       "    <tr>\n",
       "      <th>2</th>\n",
       "      <td>2020-05-07</td>\n",
       "      <td>1</td>\n",
       "      <td>-130371893</td>\n",
       "      <td>2018-12-24</td>\n",
       "      <td>2019-04-01</td>\n",
       "      <td>2019-04-01 00:29:30</td>\n",
       "      <td>view</td>\n",
       "      <td>ios</td>\n",
       "      <td>3</td>\n",
       "      <td>1</td>\n",
       "      <td>CPC</td>\n",
       "      <td>46.7</td>\n",
       "      <td>0</td>\n",
       "      <td>45035</td>\n",
       "      <td>98 days</td>\n",
       "    </tr>\n",
       "    <tr>\n",
       "      <th>3</th>\n",
       "      <td>2020-05-07</td>\n",
       "      <td>1</td>\n",
       "      <td>-130371893</td>\n",
       "      <td>2018-12-24</td>\n",
       "      <td>2019-04-01</td>\n",
       "      <td>2019-04-01 00:29:58</td>\n",
       "      <td>view</td>\n",
       "      <td>android</td>\n",
       "      <td>3</td>\n",
       "      <td>1</td>\n",
       "      <td>CPC</td>\n",
       "      <td>46.7</td>\n",
       "      <td>0</td>\n",
       "      <td>45035</td>\n",
       "      <td>98 days</td>\n",
       "    </tr>\n",
       "    <tr>\n",
       "      <th>4</th>\n",
       "      <td>2020-05-07</td>\n",
       "      <td>1</td>\n",
       "      <td>-130371893</td>\n",
       "      <td>2018-12-24</td>\n",
       "      <td>2019-04-01</td>\n",
       "      <td>2019-04-01 00:51:54</td>\n",
       "      <td>view</td>\n",
       "      <td>android</td>\n",
       "      <td>3</td>\n",
       "      <td>1</td>\n",
       "      <td>CPC</td>\n",
       "      <td>46.7</td>\n",
       "      <td>0</td>\n",
       "      <td>45035</td>\n",
       "      <td>98 days</td>\n",
       "    </tr>\n",
       "  </tbody>\n",
       "</table>\n",
       "</div>"
      ],
      "text/plain": [
       "        date  client_union_id  community_id create_date  date_rekl  \\\n",
       "0 2020-05-07                1    -130371893  2018-12-24 2019-04-01   \n",
       "1 2020-05-07                1    -130371893  2018-12-24 2019-04-01   \n",
       "2 2020-05-07                1    -130371893  2018-12-24 2019-04-01   \n",
       "3 2020-05-07                1    -130371893  2018-12-24 2019-04-01   \n",
       "4 2020-05-07                1    -130371893  2018-12-24 2019-04-01   \n",
       "\n",
       "                 time event platform  ad_id  campaign_union_id ad_cost_type  \\\n",
       "0 2019-04-01 00:08:51  view  android      3                  1          CPC   \n",
       "1 2019-04-01 00:09:36  view      ios      3                  1          CPC   \n",
       "2 2019-04-01 00:29:30  view      ios      3                  1          CPC   \n",
       "3 2019-04-01 00:29:58  view  android      3                  1          CPC   \n",
       "4 2019-04-01 00:51:54  view  android      3                  1          CPC   \n",
       "\n",
       "   ad_cost  has_video  target_audience_count date_dif  \n",
       "0     46.7          0                  45035  98 days  \n",
       "1     46.7          0                  45035  98 days  \n",
       "2     46.7          0                  45035  98 days  \n",
       "3     46.7          0                  45035  98 days  \n",
       "4     46.7          0                  45035  98 days  "
      ]
     },
     "execution_count": 224,
     "metadata": {},
     "output_type": "execute_result"
    }
   ],
   "source": [
    "df_b = df_b.assign(date_dif = df_b.date_rekl - df_b.create_date)\n",
    "df_b.head()"
   ]
  },
  {
   "cell_type": "code",
   "execution_count": 226,
   "metadata": {},
   "outputs": [
    {
     "data": {
      "text/plain": [
       "date_dif   124 days 09:04:43.532219570\n",
       "dtype: timedelta64[ns]"
      ]
     },
     "execution_count": 226,
     "metadata": {},
     "output_type": "execute_result"
    }
   ],
   "source": [
    "df_b.groupby('client_union_id').agg({'date_dif': 'min'}).mean()"
   ]
  },
  {
   "cell_type": "code",
   "execution_count": null,
   "metadata": {},
   "outputs": [],
   "source": [
    "#Вычислим конверсию из создания рекламного кабинета в запуск первой рекламы в течение не более 365 дней.\n",
    "\n",
    "#Конверсия – отношение числа клиентов, которые совершили целевое действие (создали рекламу), к общему числу клиентов."
   ]
  },
  {
   "cell_type": "code",
   "execution_count": 240,
   "metadata": {},
   "outputs": [
    {
     "data": {
      "text/html": [
       "<div>\n",
       "<style scoped>\n",
       "    .dataframe tbody tr th:only-of-type {\n",
       "        vertical-align: middle;\n",
       "    }\n",
       "\n",
       "    .dataframe tbody tr th {\n",
       "        vertical-align: top;\n",
       "    }\n",
       "\n",
       "    .dataframe thead th {\n",
       "        text-align: right;\n",
       "    }\n",
       "</style>\n",
       "<table border=\"1\" class=\"dataframe\">\n",
       "  <thead>\n",
       "    <tr style=\"text-align: right;\">\n",
       "      <th></th>\n",
       "      <th>client_union_id</th>\n",
       "      <th>date_dif</th>\n",
       "    </tr>\n",
       "  </thead>\n",
       "  <tbody>\n",
       "    <tr>\n",
       "      <th>0</th>\n",
       "      <td>1</td>\n",
       "      <td>98 days</td>\n",
       "    </tr>\n",
       "    <tr>\n",
       "      <th>1</th>\n",
       "      <td>9</td>\n",
       "      <td>114 days</td>\n",
       "    </tr>\n",
       "    <tr>\n",
       "      <th>2</th>\n",
       "      <td>13</td>\n",
       "      <td>66 days</td>\n",
       "    </tr>\n",
       "    <tr>\n",
       "      <th>3</th>\n",
       "      <td>16</td>\n",
       "      <td>105 days</td>\n",
       "    </tr>\n",
       "    <tr>\n",
       "      <th>4</th>\n",
       "      <td>20</td>\n",
       "      <td>32 days</td>\n",
       "    </tr>\n",
       "  </tbody>\n",
       "</table>\n",
       "</div>"
      ],
      "text/plain": [
       "   client_union_id date_dif\n",
       "0                1  98 days\n",
       "1                9 114 days\n",
       "2               13  66 days\n",
       "3               16 105 days\n",
       "4               20  32 days"
      ]
     },
     "execution_count": 240,
     "metadata": {},
     "output_type": "execute_result"
    }
   ],
   "source": [
    "df7 = df_b.groupby('client_union_id', as_index = False).agg({'date_dif': 'min'})\n",
    "df7.head()"
   ]
  },
  {
   "cell_type": "code",
   "execution_count": 263,
   "metadata": {},
   "outputs": [
    {
     "data": {
      "text/html": [
       "<div>\n",
       "<style scoped>\n",
       "    .dataframe tbody tr th:only-of-type {\n",
       "        vertical-align: middle;\n",
       "    }\n",
       "\n",
       "    .dataframe tbody tr th {\n",
       "        vertical-align: top;\n",
       "    }\n",
       "\n",
       "    .dataframe thead th {\n",
       "        text-align: right;\n",
       "    }\n",
       "</style>\n",
       "<table border=\"1\" class=\"dataframe\">\n",
       "  <thead>\n",
       "    <tr style=\"text-align: right;\">\n",
       "      <th></th>\n",
       "      <th>client_union_id</th>\n",
       "      <th>date_dif</th>\n",
       "    </tr>\n",
       "  </thead>\n",
       "  <tbody>\n",
       "    <tr>\n",
       "      <th>count</th>\n",
       "      <td>838.000000</td>\n",
       "      <td>838</td>\n",
       "    </tr>\n",
       "    <tr>\n",
       "      <th>mean</th>\n",
       "      <td>47921.434368</td>\n",
       "      <td>124 days 09:04:43.532219570</td>\n",
       "    </tr>\n",
       "    <tr>\n",
       "      <th>std</th>\n",
       "      <td>42915.267571</td>\n",
       "      <td>59 days 08:03:36.669339745</td>\n",
       "    </tr>\n",
       "    <tr>\n",
       "      <th>min</th>\n",
       "      <td>1.000000</td>\n",
       "      <td>26 days 00:00:00</td>\n",
       "    </tr>\n",
       "    <tr>\n",
       "      <th>25%</th>\n",
       "      <td>21301.250000</td>\n",
       "      <td>73 days 06:00:00</td>\n",
       "    </tr>\n",
       "    <tr>\n",
       "      <th>50%</th>\n",
       "      <td>28913.500000</td>\n",
       "      <td>119 days 00:00:00</td>\n",
       "    </tr>\n",
       "    <tr>\n",
       "      <th>75%</th>\n",
       "      <td>105267.500000</td>\n",
       "      <td>166 days 18:00:00</td>\n",
       "    </tr>\n",
       "    <tr>\n",
       "      <th>max</th>\n",
       "      <td>122078.000000</td>\n",
       "      <td>251 days 00:00:00</td>\n",
       "    </tr>\n",
       "  </tbody>\n",
       "</table>\n",
       "</div>"
      ],
      "text/plain": [
       "       client_union_id                     date_dif\n",
       "count       838.000000                          838\n",
       "mean      47921.434368  124 days 09:04:43.532219570\n",
       "std       42915.267571   59 days 08:03:36.669339745\n",
       "min           1.000000             26 days 00:00:00\n",
       "25%       21301.250000             73 days 06:00:00\n",
       "50%       28913.500000            119 days 00:00:00\n",
       "75%      105267.500000            166 days 18:00:00\n",
       "max      122078.000000            251 days 00:00:00"
      ]
     },
     "execution_count": 263,
     "metadata": {},
     "output_type": "execute_result"
    }
   ],
   "source": [
    "df7.describe()"
   ]
  },
  {
   "cell_type": "code",
   "execution_count": 262,
   "metadata": {},
   "outputs": [
    {
     "data": {
      "text/plain": [
       "0.69"
      ]
     },
     "execution_count": 262,
     "metadata": {},
     "output_type": "execute_result"
    }
   ],
   "source": [
    "conversiya = round(df7.client_union_id.count()/df2.client_union_id.nunique()*100,2)\n",
    "conversiya"
   ]
  },
  {
   "cell_type": "code",
   "execution_count": null,
   "metadata": {},
   "outputs": [],
   "source": []
  },
  {
   "cell_type": "code",
   "execution_count": null,
   "metadata": {},
   "outputs": [],
   "source": [
    "#Давайте разобъем наших клиентов по промежуткам от создания рекламного кабинета до запуска первого рекламного объявления."
   ]
  },
  {
   "cell_type": "code",
   "execution_count": 333,
   "metadata": {},
   "outputs": [],
   "source": [
    "df_clients = df7"
   ]
  },
  {
   "cell_type": "code",
   "execution_count": 334,
   "metadata": {},
   "outputs": [],
   "source": [
    "df_clients['cutting'] = pd.cut(df_clients.date_dif, pd.to_timedelta(['-1 days', '30 days', '90 days', '180 days', '365 days']), \n",
    "                               labels = ['0-30', '30-90', '90-180', '180-365'])"
   ]
  },
  {
   "cell_type": "code",
   "execution_count": 344,
   "metadata": {},
   "outputs": [
    {
     "data": {
      "text/plain": [
       "<matplotlib.axes._subplots.AxesSubplot at 0x7f3fce443518>"
      ]
     },
     "execution_count": 344,
     "metadata": {},
     "output_type": "execute_result"
    },
    {
     "data": {
      "image/png": "[encoded data removed]",
      "text/plain": [
       "<Figure size 1440x504 with 1 Axes>"
      ]
     },
     "metadata": {},
     "output_type": "display_data"
    }
   ],
   "source": [
    "df_clients.groupby('cutting').client_union_id.count().plot()"
   ]
  },
  {
   "cell_type": "code",
   "execution_count": null,
   "metadata": {},
   "outputs": [],
   "source": []
  },
  {
   "cell_type": "code",
   "execution_count": null,
   "metadata": {},
   "outputs": [],
   "source": []
  },
  {
   "cell_type": "code",
   "execution_count": null,
   "metadata": {},
   "outputs": [],
   "source": []
  },
  {
   "cell_type": "code",
   "execution_count": null,
   "metadata": {},
   "outputs": [],
   "source": []
  }
 ],
 "metadata": {
  "kernelspec": {
   "display_name": "Python 3",
   "language": "python",
   "name": "python3"
  },
  "language_info": {
   "codemirror_mode": {
    "name": "ipython",
    "version": 3
   },
   "file_extension": ".py",
   "mimetype": "text/x-python",
   "name": "python",
   "nbconvert_exporter": "python",
   "pygments_lexer": "ipython3",
   "version": "3.7.3"
  }
 },
 "nbformat": 4,
 "nbformat_minor": 4
}
