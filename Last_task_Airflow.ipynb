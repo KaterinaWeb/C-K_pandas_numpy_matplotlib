{
 "cells": [
  {
   "cell_type": "code",
   "execution_count": 25,
   "metadata": {},
   "outputs": [],
   "source": [
    "import pandas as pd\n",
    "import numpy as np\n",
    "from datetime import timedelta\n",
    "from datetime import datetime\n",
    "from airflow.decorators import dag, task\n",
    "from airflow.models import Variable"
   ]
  },
  {
   "cell_type": "code",
   "execution_count": 26,
   "metadata": {},
   "outputs": [],
   "source": [
    "TOP_1M_DOMAINS = '/var/lib/airflow/airflow.git/dags/a.batalov/vgsales.csv'\n",
    "TOP_1M_DOMAINS_FILE = 'vgsales.csv'"
   ]
  },
  {
   "cell_type": "code",
   "execution_count": 27,
   "metadata": {},
   "outputs": [],
   "source": [
    "default_args = {\n",
    "    'owner': 'e.juhimenko',\n",
    "    'depends_on_past': False,\n",
    "    'retries': 3,\n",
    "    'retry_delay': timedelta(minutes=5),\n",
    "    'start_date': datetime(2023, 9, 17),\n",
    "    'schedule_interval': '0 13 * * *'\n",
    "}\n"
   ]
  },
  {
   "cell_type": "code",
   "execution_count": 28,
   "metadata": {},
   "outputs": [],
   "source": [
    "@dag(default_args=default_args, catchup=False)\n",
    "def e_juhimenko_airflow_2():\n",
    "    \n",
    "    @task(retries=3)\n",
    "    def get_data():\n",
    "        top_data_df = pd.read_csv(TOP_1M_DOMAINS)\n",
    "        top_data_df.Year= top_data_df.Year.fillna(0)\n",
    "        top_data_df['Year'] = top_data_df['Year'].astype('int64')\n",
    "        login = 'e-juhimenko'\n",
    "        year = 1994 + hash(f'{login}') % 23\n",
    "        df = top_data_df[top_data_df.Year == year]\n",
    "        return df\n",
    "    \n",
    "    \n",
    "    @task()\n",
    "    def global_saled_game(df):\n",
    "        World_saled_game = df.groupby('Name', as_index = False).agg({'Global_Sales': 'sum'}) \\\n",
    "            .query(\"Global_Sales == Global_Sales.max()\").Name\n",
    "        return World_saled_game.to_csv(index=False)\n",
    "    \n",
    "    \n",
    "    @task()\n",
    "    def eu_saled_genre(df):\n",
    "        EU_saled_genre = df.groupby('Genre', as_index = False).agg({'EU_Sales': 'sum'}) \\\n",
    "            .query('EU_Sales == EU_Sales.max()').Genre\n",
    "        return EU_saled_genre.to_csv(index=False)\n",
    "    \n",
    "    \n",
    "    @task()\n",
    "    def na_saled_platform(df):\n",
    "        gold_Platform_NA = df.groupby(['Platform', 'Name'], as_index = False).agg({'NA_Sales': 'sum'}). \\\n",
    "            query('NA_Sales > 1.00000'). \\\n",
    "            groupby('Platform', as_index = False).agg({'Name': 'count'}). \\\n",
    "            query('Name == Name.max()').Platform\n",
    "        return gold_Platform_NA.to_csv(index=False)\n",
    "    \n",
    "    \n",
    "    @task()\n",
    "    def jp_saled_publisher(df):\n",
    "        gold_median_Publisher_JP = df.groupby('Publisher', as_index = False).agg({'JP_Sales': 'median'}). \\\n",
    "             query('JP_Sales == JP_Sales.max()').Publisher\n",
    "        return gold_median_Publisher_JP.to_csv(index=False)\n",
    "    \n",
    "    \n",
    "    @task(retries=4, retry_delay=timedelta(3))\n",
    "    def eu_better_jp(df):\n",
    "        df_EU = df.groupby('Name', as_index = False).agg({'EU_Sales': 'sum'})\n",
    "        df_JP = df.groupby('Name', as_index = False).agg({'JP_Sales': 'sum'})\n",
    "        df_EU_JP = pd.merge(df_EU,df_JP, how = 'left')\n",
    "        df_EU_JP['EU_winner'] = df_EU_JP.EU_Sales > df_EU_JP.JP_Sales\n",
    "        EU_better_JP_times = df_EU_JP[df_EU_JP.EU_winner == True].count().Name\n",
    "        return EU_better_JP_times\n",
    "    \n",
    "    \n",
    "    @task(retries=4, retry_delay=timedelta(4))\n",
    "    def print_data(World_saled_game, EU_saled_genre, gold_Platform_NA,gold_median_Publisher_JP, EU_better_JP_times):\n",
    "        login = 'e-juhimenko'\n",
    "        year = 1994 + hash(f'{login}') % 23\n",
    "        \n",
    "        print(f'1. Самая продаваемая игра в {year} году во всем мире')\n",
    "        print(World_saled_game)\n",
    "        \n",
    "        print(f'2. Самый(-ые) продаваемый(-ые) в Европе жанр(-ы) в {year} году')\n",
    "        print(EU_saled_genre)\n",
    "        \n",
    "        print(f'3. Больше всего игр, которые продались более чем миллионным тиражом в Северной Америке в {year} году были на платформе')\n",
    "        print(gold_Platform_NA)\n",
    "        \n",
    "        print(f'4. Самые высокие средние продажи в Японии в {year} году были у издательства')\n",
    "        print(gold_median_Publisher_JP)\n",
    "        \n",
    "        print(f'5. Количество игр, которые продались лучше в Европе, чем в Японии в {year} году составляет {EU_better_JP_times}')\n",
    "\n",
    "        \n",
    "\n",
    "    df = get_data()\n",
    "    World_saled_game = global_saled_game(df)\n",
    "    EU_saled_genre = eu_saled_genre(df)\n",
    "    gold_Platform_NA = na_saled_platform(df)\n",
    "    gold_median_Publisher_JP = jp_saled_publisher(df)\n",
    "    EU_better_JP_times = eu_better_jp(df)\n",
    "    \n",
    "    print_data(World_saled_game, EU_saled_genre, gold_Platform_NA,gold_median_Publisher_JP, EU_better_JP_times)\n",
    "\n",
    "e_juhimenko_airflow_2 = e_juhimenko_airflow_2()\n",
    "  "
   ]
  },
  {
   "cell_type": "code",
   "execution_count": 129,
   "metadata": {},
   "outputs": [],
   "source": [
    "  "
   ]
  },
  {
   "cell_type": "code",
   "execution_count": null,
   "metadata": {},
   "outputs": [],
   "source": []
  },
  {
   "cell_type": "code",
   "execution_count": null,
   "metadata": {},
   "outputs": [],
   "source": []
  },
  {
   "cell_type": "code",
   "execution_count": null,
   "metadata": {},
   "outputs": [],
   "source": []
  },
  {
   "cell_type": "code",
   "execution_count": null,
   "metadata": {},
   "outputs": [],
   "source": []
  },
  {
   "cell_type": "code",
   "execution_count": null,
   "metadata": {},
   "outputs": [],
   "source": []
  },
  {
   "cell_type": "code",
   "execution_count": null,
   "metadata": {},
   "outputs": [],
   "source": []
  },
  {
   "cell_type": "code",
   "execution_count": null,
   "metadata": {},
   "outputs": [],
   "source": []
  }
 ],
 "metadata": {
  "kernelspec": {
   "display_name": "Python 3",
   "language": "python",
   "name": "python3"
  },
  "language_info": {
   "codemirror_mode": {
    "name": "ipython",
    "version": 3
   },
   "file_extension": ".py",
   "mimetype": "text/x-python",
   "name": "python",
   "nbconvert_exporter": "python",
   "pygments_lexer": "ipython3",
   "version": "3.7.3"
  }
 },
 "nbformat": 4,
 "nbformat_minor": 4
}
