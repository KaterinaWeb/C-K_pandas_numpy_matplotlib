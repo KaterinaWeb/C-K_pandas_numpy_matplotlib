{
 "cells": [
  {
   "cell_type": "code",
   "execution_count": 195,
   "metadata": {},
   "outputs": [],
   "source": [
    "import pandas as pd\n",
    "import numpy as np\n",
    "import seaborn as sns\n",
    "import statsmodels.formula.api as smf\n",
    "from statsmodels.formula.api import ols"
   ]
  },
  {
   "cell_type": "code",
   "execution_count": 187,
   "metadata": {},
   "outputs": [],
   "source": [
    "df = pd.read_excel('Financial analyst test.xlsx', skiprows = [1], header = 1)"
   ]
  },
  {
   "cell_type": "code",
   "execution_count": 188,
   "metadata": {},
   "outputs": [
    {
     "data": {
      "text/html": [
       "<div>\n",
       "<style scoped>\n",
       "    .dataframe tbody tr th:only-of-type {\n",
       "        vertical-align: middle;\n",
       "    }\n",
       "\n",
       "    .dataframe tbody tr th {\n",
       "        vertical-align: top;\n",
       "    }\n",
       "\n",
       "    .dataframe thead th {\n",
       "        text-align: right;\n",
       "    }\n",
       "</style>\n",
       "<table border=\"1\" class=\"dataframe\">\n",
       "  <thead>\n",
       "    <tr style=\"text-align: right;\">\n",
       "      <th></th>\n",
       "      <th>Year</th>\n",
       "      <th>Quarter</th>\n",
       "      <th>Month</th>\n",
       "      <th>Employee</th>\n",
       "      <th>Cost Object</th>\n",
       "      <th>Paid FTE</th>\n",
       "      <th>Salary</th>\n",
       "      <th>Overhead</th>\n",
       "      <th>Total Expenses</th>\n",
       "    </tr>\n",
       "  </thead>\n",
       "  <tbody>\n",
       "    <tr>\n",
       "      <th>0</th>\n",
       "      <td>2010</td>\n",
       "      <td>Q3</td>\n",
       "      <td>Sep</td>\n",
       "      <td>Employee 102</td>\n",
       "      <td>::DC/GO/CIS/BY/Minsk</td>\n",
       "      <td>0.555556</td>\n",
       "      <td>722.2222</td>\n",
       "      <td>341.1389</td>\n",
       "      <td>1063.3611</td>\n",
       "    </tr>\n",
       "    <tr>\n",
       "      <th>1</th>\n",
       "      <td>2010</td>\n",
       "      <td>Q4</td>\n",
       "      <td>Oct</td>\n",
       "      <td>Employee 102</td>\n",
       "      <td>::DC/GO/CIS/BY/Minsk</td>\n",
       "      <td>1.000000</td>\n",
       "      <td>1300.0000</td>\n",
       "      <td>637.2292</td>\n",
       "      <td>1937.2292</td>\n",
       "    </tr>\n",
       "    <tr>\n",
       "      <th>2</th>\n",
       "      <td>2010</td>\n",
       "      <td>Q4</td>\n",
       "      <td>Nov</td>\n",
       "      <td>Employee 102</td>\n",
       "      <td>::DC/GO/CIS/BY/Minsk</td>\n",
       "      <td>1.000000</td>\n",
       "      <td>1300.0000</td>\n",
       "      <td>589.6518</td>\n",
       "      <td>1889.6518</td>\n",
       "    </tr>\n",
       "    <tr>\n",
       "      <th>3</th>\n",
       "      <td>2010</td>\n",
       "      <td>Q1</td>\n",
       "      <td>Mar</td>\n",
       "      <td>Employee 17</td>\n",
       "      <td>::DC/GO/CIS/BY/Minsk</td>\n",
       "      <td>0.687500</td>\n",
       "      <td>398.7500</td>\n",
       "      <td>362.1535</td>\n",
       "      <td>760.9035</td>\n",
       "    </tr>\n",
       "    <tr>\n",
       "      <th>4</th>\n",
       "      <td>2010</td>\n",
       "      <td>Q2</td>\n",
       "      <td>Apr</td>\n",
       "      <td>Employee 17</td>\n",
       "      <td>::DC/GO/CIS/BY/Minsk</td>\n",
       "      <td>1.000000</td>\n",
       "      <td>699.9999</td>\n",
       "      <td>677.8367</td>\n",
       "      <td>1377.8366</td>\n",
       "    </tr>\n",
       "  </tbody>\n",
       "</table>\n",
       "</div>"
      ],
      "text/plain": [
       "   Year Quarter Month      Employee           Cost Object  Paid FTE  \\\n",
       "0  2010      Q3   Sep  Employee 102  ::DC/GO/CIS/BY/Minsk  0.555556   \n",
       "1  2010      Q4   Oct  Employee 102  ::DC/GO/CIS/BY/Minsk  1.000000   \n",
       "2  2010      Q4   Nov  Employee 102  ::DC/GO/CIS/BY/Minsk  1.000000   \n",
       "3  2010      Q1   Mar   Employee 17  ::DC/GO/CIS/BY/Minsk  0.687500   \n",
       "4  2010      Q2   Apr   Employee 17  ::DC/GO/CIS/BY/Minsk  1.000000   \n",
       "\n",
       "      Salary  Overhead  Total Expenses  \n",
       "0   722.2222  341.1389       1063.3611  \n",
       "1  1300.0000  637.2292       1937.2292  \n",
       "2  1300.0000  589.6518       1889.6518  \n",
       "3   398.7500  362.1535        760.9035  \n",
       "4   699.9999  677.8367       1377.8366  "
      ]
     },
     "execution_count": 188,
     "metadata": {},
     "output_type": "execute_result"
    }
   ],
   "source": [
    "df = df.drop('Unnamed: 0', axis = 1)\n",
    "df.head()"
   ]
  },
  {
   "cell_type": "code",
   "execution_count": 189,
   "metadata": {},
   "outputs": [],
   "source": [
    "df['Year'] = pd.to_datetime(df.Year, format = '%Y').dt.year"
   ]
  },
  {
   "cell_type": "code",
   "execution_count": 190,
   "metadata": {},
   "outputs": [],
   "source": [
    "month_mapping = {\n",
    "    'Jan': 1,'Feb': 2,'Mar': 3,'Apr': 4,'May': 5,'Jun': 6,'Jul': 7,'Aug': 8,'Sep': 9,'Oct': 10,'Nov': 11,'Dec': 12\n",
    "}\n",
    "\n",
    "# Заменяем названия месяцев на номера месяцев\n",
    "df['Month'] = df['Month'].apply(lambda x: month_mapping[x])\n",
    "df = df.rename(columns = {'Total Expenses':'Total_Expenses'})"
   ]
  },
  {
   "cell_type": "code",
   "execution_count": 191,
   "metadata": {},
   "outputs": [
    {
     "data": {
      "text/html": [
       "<div>\n",
       "<style scoped>\n",
       "    .dataframe tbody tr th:only-of-type {\n",
       "        vertical-align: middle;\n",
       "    }\n",
       "\n",
       "    .dataframe tbody tr th {\n",
       "        vertical-align: top;\n",
       "    }\n",
       "\n",
       "    .dataframe thead th {\n",
       "        text-align: right;\n",
       "    }\n",
       "</style>\n",
       "<table border=\"1\" class=\"dataframe\">\n",
       "  <thead>\n",
       "    <tr style=\"text-align: right;\">\n",
       "      <th></th>\n",
       "      <th>Year</th>\n",
       "      <th>Quarter</th>\n",
       "      <th>Month</th>\n",
       "      <th>Employee</th>\n",
       "      <th>Cost Object</th>\n",
       "      <th>Paid FTE</th>\n",
       "      <th>Salary</th>\n",
       "      <th>Overhead</th>\n",
       "      <th>Total_Expenses</th>\n",
       "    </tr>\n",
       "  </thead>\n",
       "  <tbody>\n",
       "    <tr>\n",
       "      <th>0</th>\n",
       "      <td>2010</td>\n",
       "      <td>Q3</td>\n",
       "      <td>9</td>\n",
       "      <td>Employee 102</td>\n",
       "      <td>::DC/GO/CIS/BY/Minsk</td>\n",
       "      <td>0.555556</td>\n",
       "      <td>722.2222</td>\n",
       "      <td>341.1389</td>\n",
       "      <td>1063.3611</td>\n",
       "    </tr>\n",
       "    <tr>\n",
       "      <th>1</th>\n",
       "      <td>2010</td>\n",
       "      <td>Q4</td>\n",
       "      <td>10</td>\n",
       "      <td>Employee 102</td>\n",
       "      <td>::DC/GO/CIS/BY/Minsk</td>\n",
       "      <td>1.000000</td>\n",
       "      <td>1300.0000</td>\n",
       "      <td>637.2292</td>\n",
       "      <td>1937.2292</td>\n",
       "    </tr>\n",
       "    <tr>\n",
       "      <th>2</th>\n",
       "      <td>2010</td>\n",
       "      <td>Q4</td>\n",
       "      <td>11</td>\n",
       "      <td>Employee 102</td>\n",
       "      <td>::DC/GO/CIS/BY/Minsk</td>\n",
       "      <td>1.000000</td>\n",
       "      <td>1300.0000</td>\n",
       "      <td>589.6518</td>\n",
       "      <td>1889.6518</td>\n",
       "    </tr>\n",
       "  </tbody>\n",
       "</table>\n",
       "</div>"
      ],
      "text/plain": [
       "   Year Quarter  Month      Employee           Cost Object  Paid FTE  \\\n",
       "0  2010      Q3      9  Employee 102  ::DC/GO/CIS/BY/Minsk  0.555556   \n",
       "1  2010      Q4     10  Employee 102  ::DC/GO/CIS/BY/Minsk  1.000000   \n",
       "2  2010      Q4     11  Employee 102  ::DC/GO/CIS/BY/Minsk  1.000000   \n",
       "\n",
       "      Salary  Overhead  Total_Expenses  \n",
       "0   722.2222  341.1389       1063.3611  \n",
       "1  1300.0000  637.2292       1937.2292  \n",
       "2  1300.0000  589.6518       1889.6518  "
      ]
     },
     "execution_count": 191,
     "metadata": {},
     "output_type": "execute_result"
    }
   ],
   "source": [
    "df.head(3)"
   ]
  },
  {
   "cell_type": "code",
   "execution_count": null,
   "metadata": {},
   "outputs": [],
   "source": []
  },
  {
   "cell_type": "code",
   "execution_count": 193,
   "metadata": {},
   "outputs": [
    {
     "data": {
      "text/html": [
       "<div>\n",
       "<style scoped>\n",
       "    .dataframe tbody tr th:only-of-type {\n",
       "        vertical-align: middle;\n",
       "    }\n",
       "\n",
       "    .dataframe tbody tr th {\n",
       "        vertical-align: top;\n",
       "    }\n",
       "\n",
       "    .dataframe thead th {\n",
       "        text-align: right;\n",
       "    }\n",
       "</style>\n",
       "<table border=\"1\" class=\"dataframe\">\n",
       "  <thead>\n",
       "    <tr style=\"text-align: right;\">\n",
       "      <th></th>\n",
       "      <th>Year</th>\n",
       "      <th>Month</th>\n",
       "      <th>Total_Expenses_avg</th>\n",
       "      <th>Employee_count</th>\n",
       "      <th>Salary_avg</th>\n",
       "      <th>Overhead_avg</th>\n",
       "    </tr>\n",
       "  </thead>\n",
       "  <tbody>\n",
       "    <tr>\n",
       "      <th>2</th>\n",
       "      <td>2010</td>\n",
       "      <td>5</td>\n",
       "      <td>1524.104589</td>\n",
       "      <td>27</td>\n",
       "      <td>993.706533</td>\n",
       "      <td>530.398056</td>\n",
       "    </tr>\n",
       "    <tr>\n",
       "      <th>5</th>\n",
       "      <td>2010</td>\n",
       "      <td>8</td>\n",
       "      <td>1497.428416</td>\n",
       "      <td>32</td>\n",
       "      <td>913.362547</td>\n",
       "      <td>584.065869</td>\n",
       "    </tr>\n",
       "  </tbody>\n",
       "</table>\n",
       "</div>"
      ],
      "text/plain": [
       "   Year  Month  Total_Expenses_avg  Employee_count  Salary_avg  Overhead_avg\n",
       "2  2010      5         1524.104589              27  993.706533    530.398056\n",
       "5  2010      8         1497.428416              32  913.362547    584.065869"
      ]
     },
     "execution_count": 193,
     "metadata": {},
     "output_type": "execute_result"
    }
   ],
   "source": [
    "costs1 = df.groupby(['Year', 'Month'], as_index = False).agg({'Total_Expenses': 'mean', \n",
    "                                                              'Employee' : 'count', \n",
    "                                                              'Salary': 'mean', \n",
    "                                                              'Overhead' : 'mean'})\n",
    "df_mean = costs1[costs1.Month.isin([5,8])]\n",
    "df_mean = df_mean.rename(columns = {'Total_Expenses' : 'Total_Expenses_avg','Employee':'Employee_count', 'Salary':'Salary_avg', 'Overhead':'Overhead_avg'})\n",
    "df_mean"
   ]
  },
  {
   "cell_type": "code",
   "execution_count": null,
   "metadata": {},
   "outputs": [],
   "source": []
  },
  {
   "cell_type": "markdown",
   "metadata": {},
   "source": [
    "#### Почему расходы выросли и как на дельту повлияло изменение струкруры команды, изменение зарплаты и оверхедов в денежном выражении?"
   ]
  },
  {
   "cell_type": "code",
   "execution_count": null,
   "metadata": {},
   "outputs": [],
   "source": [
    "#Применим регрессионный анализ"
   ]
  },
  {
   "cell_type": "code",
   "execution_count": 194,
   "metadata": {},
   "outputs": [
    {
     "name": "stderr",
     "output_type": "stream",
     "text": [
      "/opt/tljh/user/lib/python3.7/site-packages/statsmodels/stats/stattools.py:75: ValueWarning: omni_normtest is not valid with less than 8 observations; 2 samples were given.\n",
      "  \"samples were given.\" % int(n), ValueWarning)\n",
      "/opt/tljh/user/lib/python3.7/site-packages/statsmodels/regression/linear_model.py:1751: RuntimeWarning: divide by zero encountered in true_divide\n",
      "  return 1 - (np.divide(self.nobs - self.k_constant, self.df_resid)\n",
      "/opt/tljh/user/lib/python3.7/site-packages/statsmodels/regression/linear_model.py:1752: RuntimeWarning: invalid value encountered in double_scalars\n",
      "  * (1 - self.rsquared))\n",
      "/opt/tljh/user/lib/python3.7/site-packages/statsmodels/regression/linear_model.py:1673: RuntimeWarning: divide by zero encountered in double_scalars\n",
      "  return np.dot(wresid, wresid) / self.df_resid\n"
     ]
    },
    {
     "name": "stdout",
     "output_type": "stream",
     "text": [
      "                            OLS Regression Results                            \n",
      "==============================================================================\n",
      "Dep. Variable:     Total_Expenses_avg   R-squared:                       1.000\n",
      "Model:                            OLS   Adj. R-squared:                    nan\n",
      "Method:                 Least Squares   F-statistic:                       nan\n",
      "Date:                Sun, 13 Aug 2023   Prob (F-statistic):                nan\n",
      "Time:                        13:51:17   Log-Likelihood:                 51.228\n",
      "No. Observations:                   2   AIC:                            -98.46\n",
      "Df Residuals:                       0   BIC:                            -101.1\n",
      "Df Model:                           1                                         \n",
      "Covariance Type:            nonrobust                                         \n",
      "==================================================================================\n",
      "                     coef    std err          t      P>|t|      [0.025      0.975]\n",
      "----------------------------------------------------------------------------------\n",
      "Intercept          0.0014        inf          0        nan         nan         nan\n",
      "Employee_count     0.0615        inf          0        nan         nan         nan\n",
      "Salary_avg         1.0008        inf          0        nan         nan         nan\n",
      "Overhead_avg       0.9954        inf          0        nan         nan         nan\n",
      "==============================================================================\n",
      "Omnibus:                          nan   Durbin-Watson:                   0.000\n",
      "Prob(Omnibus):                    nan   Jarque-Bera (JB):                0.750\n",
      "Skew:                           0.000   Prob(JB):                        0.687\n",
      "Kurtosis:                       0.000   Cond. No.                         25.4\n",
      "==============================================================================\n",
      "\n",
      "Notes:\n",
      "[1] Standard Errors assume that the covariance matrix of the errors is correctly specified.\n",
      "[2] The input rank is higher than the number of observations.\n"
     ]
    }
   ],
   "source": [
    "result = smf.ols('Total_Expenses_avg ~ Employee_count + Salary_avg + Overhead_avg', data = df_mean).fit()\n",
    "print(result.summary())"
   ]
  },
  {
   "cell_type": "code",
   "execution_count": 197,
   "metadata": {},
   "outputs": [],
   "source": [
    "#sns.pairplot(data = df_mean, kind = 'reg')"
   ]
  },
  {
   "cell_type": "code",
   "execution_count": null,
   "metadata": {},
   "outputs": [],
   "source": [
    "Средняя доля всех расходов на человека уменьшилась за период с мая по август с 1524.1 до 1497.4.\n",
    "Уравнение регрессии для Средней доли расходов на человека выглядит следующим образом:\n",
    "   \n",
    " Total_Expenses_avg = 0.0014 + 0.0615*Employee_count + 1.0008*Salary_avg + 0.9954*Overhead_avg\n",
    "    \n",
    "Коэффициент 0.0615  при независимой переменной Employee_count (структура команды) демонстрирует нам:\n",
    "Насколько изменяется ожидаемое значение Средней доли расходов на человека при единичном изменении независимой переменной \n",
    "Employee_count при условии, что все остальные независимые переменные не изменяются.\n",
    "Коэффициент 1.0008  при независимой переменной Salary_avg (средняя з/п) демонстрирует нам:\n",
    "Насколько изменяется ожидаемое значение Средней доли расходов на человека при единичном изменении независимой переменной \n",
    "Salary_avg при условии, что все остальные независимые переменные не изменяются.\n",
    "Коэффициент 0.9954 при независимой переменной Overhead_avg (средний уровень накладных расходов на члена команды) демонстрирует нам:\n",
    "Насколько изменяется ожидаемое значение Средней доли расходов на человека при единичном изменении независимой переменной \n",
    "Overhead_avg при условии, что все остальные независимые переменные не изменяются.\n",
    "    \n"
   ]
  },
  {
   "cell_type": "code",
   "execution_count": null,
   "metadata": {},
   "outputs": [],
   "source": []
  },
  {
   "cell_type": "markdown",
   "metadata": {},
   "source": [
    "### Теперь посчитаем влияние факторов в денежном выражении"
   ]
  },
  {
   "cell_type": "code",
   "execution_count": 198,
   "metadata": {},
   "outputs": [
    {
     "data": {
      "text/html": [
       "<div>\n",
       "<style scoped>\n",
       "    .dataframe tbody tr th:only-of-type {\n",
       "        vertical-align: middle;\n",
       "    }\n",
       "\n",
       "    .dataframe tbody tr th {\n",
       "        vertical-align: top;\n",
       "    }\n",
       "\n",
       "    .dataframe thead th {\n",
       "        text-align: right;\n",
       "    }\n",
       "</style>\n",
       "<table border=\"1\" class=\"dataframe\">\n",
       "  <thead>\n",
       "    <tr style=\"text-align: right;\">\n",
       "      <th></th>\n",
       "      <th>Year</th>\n",
       "      <th>Month</th>\n",
       "      <th>Total_Expenses_sum</th>\n",
       "      <th>Employee_count</th>\n",
       "      <th>Salary_avg</th>\n",
       "      <th>Overhead_avg</th>\n",
       "    </tr>\n",
       "  </thead>\n",
       "  <tbody>\n",
       "    <tr>\n",
       "      <th>2</th>\n",
       "      <td>2010</td>\n",
       "      <td>5</td>\n",
       "      <td>41150.8239</td>\n",
       "      <td>27</td>\n",
       "      <td>993.706533</td>\n",
       "      <td>530.398056</td>\n",
       "    </tr>\n",
       "    <tr>\n",
       "      <th>5</th>\n",
       "      <td>2010</td>\n",
       "      <td>8</td>\n",
       "      <td>47917.7093</td>\n",
       "      <td>32</td>\n",
       "      <td>913.362547</td>\n",
       "      <td>584.065869</td>\n",
       "    </tr>\n",
       "  </tbody>\n",
       "</table>\n",
       "</div>"
      ],
      "text/plain": [
       "   Year  Month  Total_Expenses_sum  Employee_count  Salary_avg  Overhead_avg\n",
       "2  2010      5          41150.8239              27  993.706533    530.398056\n",
       "5  2010      8          47917.7093              32  913.362547    584.065869"
      ]
     },
     "execution_count": 198,
     "metadata": {},
     "output_type": "execute_result"
    }
   ],
   "source": [
    "costs1 = df.groupby(['Year', 'Month'], as_index = False).agg({'Total_Expenses': 'sum', \n",
    "                                                              'Employee' : 'count', \n",
    "                                                              'Salary': 'mean', \n",
    "                                                              'Overhead' : 'mean'})\n",
    "df_mean = costs1[(costs1.Month == 5) | (costs1.Month == 8)]\n",
    "df_mean = df_mean.rename(columns = {'Total_Expenses' : 'Total_Expenses_sum','Employee':'Employee_count', 'Salary':'Salary_avg', 'Overhead':'Overhead_avg'})\n",
    "df_mean"
   ]
  },
  {
   "cell_type": "code",
   "execution_count": 199,
   "metadata": {},
   "outputs": [],
   "source": [
    "may = df_mean[df_mean['Month'] == 5]\n",
    "august = df_mean[df_mean['Month'] == 8]\n",
    "may_sum_expenses = may.Total_Expenses_sum.sum()\n",
    "august_sum_expenses = august.Total_Expenses_sum.sum()\n",
    "expenses_diff = august_sum_expenses - may_sum_expenses\n",
    "Employee_count_diff = august.Employee_count.sum() - may.Employee_count.sum()\n",
    "Salary_avg_diff = august.Salary_avg.sum() - may.Salary_avg.sum()\n",
    "Overhead_avg_diff = august.Overhead_avg.sum() - may.Overhead_avg.sum()"
   ]
  },
  {
   "cell_type": "code",
   "execution_count": 200,
   "metadata": {},
   "outputs": [],
   "source": [
    "# Посчитаем влияние структуры команды, изменения зарплаты и оверхедов на общие расходы в денежном эквиваленте\n",
    "Employee_count_impact = Employee_count_diff * may.Salary_avg.sum()\n",
    "Salary_avg_impact = may.Employee_count.sum() * Salary_avg_diff\n",
    "Overhead_avg_impact = may.Employee_count.sum() * Overhead_avg_diff\n",
    "Total_impact = Employee_count_impact + Salary_avg_impact + Overhead_avg_impact"
   ]
  },
  {
   "cell_type": "code",
   "execution_count": 201,
   "metadata": {},
   "outputs": [
    {
     "name": "stdout",
     "output_type": "stream",
     "text": [
      "Изменение в общих расходах Мая и Августа: 6766.89\n",
      "Влияние увеличения количества членов команды на общие расходы: 4968.53\n",
      "Влияние уменьшения средней зарплаты на общие расходы: -2169.29\n",
      "Влияние увеличения среднего уровня накладных расходов на общие расходы: 1449.03\n",
      "Общее влияние факторов на общие расходы: 4248.28\n"
     ]
    }
   ],
   "source": [
    "print('Изменение в общих расходах Мая и Августа:', expenses_diff.round(2))\n",
    "print('Влияние увеличения количества членов команды на общие расходы:', Employee_count_impact.round(2))\n",
    "print('Влияние уменьшения средней зарплаты на общие расходы:', Salary_avg_impact.round(2))\n",
    "print('Влияние увеличения среднего уровня накладных расходов на общие расходы:', Overhead_avg_impact.round(2))\n",
    "print('Общее влияние факторов на общие расходы:', Total_impact.round(2))"
   ]
  },
  {
   "cell_type": "code",
   "execution_count": null,
   "metadata": {},
   "outputs": [],
   "source": []
  },
  {
   "cell_type": "code",
   "execution_count": null,
   "metadata": {},
   "outputs": [],
   "source": []
  },
  {
   "cell_type": "code",
   "execution_count": null,
   "metadata": {},
   "outputs": [],
   "source": []
  },
  {
   "cell_type": "code",
   "execution_count": null,
   "metadata": {},
   "outputs": [],
   "source": []
  },
  {
   "cell_type": "code",
   "execution_count": null,
   "metadata": {},
   "outputs": [],
   "source": []
  },
  {
   "cell_type": "code",
   "execution_count": null,
   "metadata": {},
   "outputs": [],
   "source": []
  },
  {
   "cell_type": "code",
   "execution_count": null,
   "metadata": {},
   "outputs": [],
   "source": []
  },
  {
   "cell_type": "code",
   "execution_count": null,
   "metadata": {},
   "outputs": [],
   "source": []
  },
  {
   "cell_type": "code",
   "execution_count": null,
   "metadata": {},
   "outputs": [],
   "source": []
  },
  {
   "cell_type": "code",
   "execution_count": null,
   "metadata": {},
   "outputs": [],
   "source": []
  },
  {
   "cell_type": "code",
   "execution_count": null,
   "metadata": {},
   "outputs": [],
   "source": []
  }
 ],
 "metadata": {
  "kernelspec": {
   "display_name": "Python 3",
   "language": "python",
   "name": "python3"
  },
  "language_info": {
   "codemirror_mode": {
    "name": "ipython",
    "version": 3
   },
   "file_extension": ".py",
   "mimetype": "text/x-python",
   "name": "python",
   "nbconvert_exporter": "python",
   "pygments_lexer": "ipython3",
   "version": "3.7.3"
  }
 },
 "nbformat": 4,
 "nbformat_minor": 4
}
