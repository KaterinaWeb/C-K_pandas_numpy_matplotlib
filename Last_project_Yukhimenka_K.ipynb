{
 "cells": [
  {
   "cell_type": "markdown",
   "metadata": {},
   "source": [
    "##                                                    Финальный проект: вариант 2\n",
    "\n",
    "###  Задание 1. A/B–тестирование\n",
    "Условие\n",
    "Одной из основных задач аналитика в нашей команде является корректное проведение экспериментов. \n",
    "Для этого мы применяем метод A/B–тестирования. В ходе тестирования одной гипотезы целевой группе была предложена новая механика оплаты услуг на сайте, у контрольной группы оставалась базовая механика. \n",
    "#### В качестве задания Вам необходимо проанализировать итоги эксперимента и сделать вывод, стоит ли запускать новую механику оплаты на всех пользователей.\n",
    "\n",
    "Входные данные\n",
    "В качестве входных данных Вы имеете 4 csv-файла:\n",
    "groups.csv - файл с информацией о принадлежности пользователя к контрольной или экспериментальной группе (А – контроль, B – целевая группа) \n",
    "groups_add.csv - дополнительный файл с пользователями, который вам прислали спустя 2 дня после передачи данных\n",
    "active_studs.csv - файл с информацией о пользователях, которые зашли на платформу в дни проведения эксперимента. \n",
    "checks.csv - файл с информацией об оплатах пользователей в дни проведения эксперимента. \n",
    "\n",
    "\n",
    "\n",
    "###  Задание 2. SQL\n",
    "#### 2.1 Очень усердные ученики.\n",
    "Условие\n",
    "Образовательные курсы состоят из различных уроков, каждый из которых состоит из нескольких маленьких заданий. Каждое такое маленькое задание называется \"горошиной\".\n",
    "Назовём очень усердным учеником того пользователя, который хотя бы раз за текущий месяц правильно решил 20 горошин.\n",
    "\n",
    "Задача\n",
    "Дана таблица default.peas.\n",
    "#### Необходимо написать оптимальный запрос, который даст информацию о количестве очень усердных студентов.\n",
    "Под усердным студентом мы понимаем студента, который правильно решил 20 задач за текущий месяц.\n",
    "\n",
    "#### 2.2 Оптимизация воронки\n",
    "Условие\n",
    "Образовательная платформа предлагает пройти студентам курсы по модели trial: студент может решить бесплатно лишь \n",
    "30 горошин в день. Для неограниченного количества заданий в определенной дисциплине студенту необходимо приобрести \n",
    "полный доступ. Команда провела эксперимент, где был протестирован новый экран оплаты.\n",
    "\n",
    "Задача\n",
    "Дана таблицы: default.peas (см. выше), default.studs и default.final_project_check. \n",
    "#### Необходимо в одном запросе выгрузить следующую информацию о группах пользователей:\n",
    "#### - ARPU \n",
    "#### - ARPAU \n",
    "#### - CR в покупку \n",
    "#### - СR активного пользователя в покупку \n",
    "##### - CR пользователя из активности по математике (subject = ’math’) в покупку курса по математике.\n",
    "\n",
    "ARPU считается относительно всех пользователей, попавших в группы.\n",
    "Активным считается пользователь, за все время решивший больше 10 задач правильно в любых дисциплинах.\n",
    "Активным по математике считается пользователь, за все время решивший 2 или больше задач правильно по математике.\n",
    "Все данные находятся в табличном виде в ClickHouse.\n",
    "\n",
    "\n",
    "\n",
    "###  Задание 3. Python\n",
    "\n",
    "Задача\n",
    "\n",
    "##### 1. Реализуйте функцию, которая будет автоматически подгружать информацию из дополнительного файла groups_add.csv (заголовки могут отличаться) и на основании дополнительных параметров пересчитывать метрики.\n",
    "\n",
    "##### 2. Реализуйте функцию, которая будет строить графики по получаемым метрикам.\n"
   ]
  },
  {
   "cell_type": "code",
   "execution_count": null,
   "metadata": {},
   "outputs": [],
   "source": []
  },
  {
   "cell_type": "code",
   "execution_count": 2,
   "metadata": {},
   "outputs": [],
   "source": [
    "import pandas as pd\n",
    "import pandas as pd\n",
    "import numpy as np\n",
    "import seaborn as sns\n",
    "import matplotlib.pyplot as plt\n",
    "from scipy import stats\n",
    "import pingouin as pg\n",
    "from scipy.stats import bootstrap\n",
    "import scipy.stats as ss\n",
    "%matplotlib inline\n",
    "from scipy.stats import chi2_contingency, chi2, mannwhitneyu, shapiro, kruskal, ttest_ind\n",
    "from pandasql import sqldf\n",
    "import pandahouse as ph\n",
    "from datetime import datetime"
   ]
  },
  {
   "cell_type": "code",
   "execution_count": null,
   "metadata": {},
   "outputs": [],
   "source": []
  },
  {
   "cell_type": "markdown",
   "metadata": {},
   "source": [
    "#### Задание 1. A/B–тестирование"
   ]
  },
  {
   "cell_type": "code",
   "execution_count": 3,
   "metadata": {},
   "outputs": [],
   "source": [
    "groups = pd.read_csv('Проект_2_groups.csv', sep = ';')\n",
    "groups_add = pd.read_csv('Проект_2_group_add.csv')"
   ]
  },
  {
   "cell_type": "markdown",
   "metadata": {},
   "source": [
    "#### Конкатенируем таблицы groups и groups_add."
   ]
  },
  {
   "cell_type": "code",
   "execution_count": 4,
   "metadata": {},
   "outputs": [],
   "source": [
    "groups = pd.concat([groups, groups_add], ignore_index = True)"
   ]
  },
  {
   "cell_type": "code",
   "execution_count": 5,
   "metadata": {},
   "outputs": [
    {
     "data": {
      "text/plain": [
       "id     0\n",
       "grp    0\n",
       "dtype: int64"
      ]
     },
     "execution_count": 5,
     "metadata": {},
     "output_type": "execute_result"
    }
   ],
   "source": [
    "groups.isna().sum()"
   ]
  },
  {
   "cell_type": "code",
   "execution_count": 6,
   "metadata": {},
   "outputs": [],
   "source": [
    "#Проверили на дубликаты\n",
    "#groups[groups.duplicated()]"
   ]
  },
  {
   "cell_type": "code",
   "execution_count": 6,
   "metadata": {},
   "outputs": [],
   "source": [
    "#Переименуем столбец id на student_id\n",
    "groups.rename(columns = {'id':'student_id'}, inplace = True)"
   ]
  },
  {
   "cell_type": "code",
   "execution_count": 7,
   "metadata": {},
   "outputs": [],
   "source": [
    "active_studs = pd.read_csv('Проект_2_active_studs.csv')\n",
    "checks = pd.read_csv('Проект_2_checks.csv', sep = ';')"
   ]
  },
  {
   "cell_type": "code",
   "execution_count": null,
   "metadata": {},
   "outputs": [],
   "source": [
    "#Проверили на дубликаты\n",
    "#active_studs[active_studs.duplicated()]\n",
    "#Проверили на дубликаты\n",
    "#checks[checks.duplicated()]"
   ]
  },
  {
   "cell_type": "markdown",
   "metadata": {},
   "source": [
    " #### К таблице active_studs замерджим таблицы checks и сконкатенированную groups."
   ]
  },
  {
   "cell_type": "code",
   "execution_count": 8,
   "metadata": {},
   "outputs": [
    {
     "data": {
      "text/html": [
       "<div>\n",
       "<style scoped>\n",
       "    .dataframe tbody tr th:only-of-type {\n",
       "        vertical-align: middle;\n",
       "    }\n",
       "\n",
       "    .dataframe tbody tr th {\n",
       "        vertical-align: top;\n",
       "    }\n",
       "\n",
       "    .dataframe thead th {\n",
       "        text-align: right;\n",
       "    }\n",
       "</style>\n",
       "<table border=\"1\" class=\"dataframe\">\n",
       "  <thead>\n",
       "    <tr style=\"text-align: right;\">\n",
       "      <th></th>\n",
       "      <th>student_id</th>\n",
       "      <th>rev</th>\n",
       "      <th>grp</th>\n",
       "    </tr>\n",
       "  </thead>\n",
       "  <tbody>\n",
       "    <tr>\n",
       "      <th>0</th>\n",
       "      <td>581585</td>\n",
       "      <td>NaN</td>\n",
       "      <td>A</td>\n",
       "    </tr>\n",
       "    <tr>\n",
       "      <th>1</th>\n",
       "      <td>5723133</td>\n",
       "      <td>NaN</td>\n",
       "      <td>A</td>\n",
       "    </tr>\n",
       "    <tr>\n",
       "      <th>2</th>\n",
       "      <td>3276743</td>\n",
       "      <td>NaN</td>\n",
       "      <td>B</td>\n",
       "    </tr>\n",
       "    <tr>\n",
       "      <th>3</th>\n",
       "      <td>4238589</td>\n",
       "      <td>NaN</td>\n",
       "      <td>A</td>\n",
       "    </tr>\n",
       "    <tr>\n",
       "      <th>4</th>\n",
       "      <td>4475369</td>\n",
       "      <td>NaN</td>\n",
       "      <td>B</td>\n",
       "    </tr>\n",
       "  </tbody>\n",
       "</table>\n",
       "</div>"
      ],
      "text/plain": [
       "   student_id  rev grp\n",
       "0      581585  NaN   A\n",
       "1     5723133  NaN   A\n",
       "2     3276743  NaN   B\n",
       "3     4238589  NaN   A\n",
       "4     4475369  NaN   B"
      ]
     },
     "execution_count": 8,
     "metadata": {},
     "output_type": "execute_result"
    }
   ],
   "source": [
    "active = pd.merge(active_studs, checks, how = 'left')\n",
    "active = pd.merge(active, groups, how = 'left')\n",
    "active.head()"
   ]
  },
  {
   "cell_type": "code",
   "execution_count": 9,
   "metadata": {},
   "outputs": [
    {
     "data": {
      "text/html": [
       "<div>\n",
       "<style scoped>\n",
       "    .dataframe tbody tr th:only-of-type {\n",
       "        vertical-align: middle;\n",
       "    }\n",
       "\n",
       "    .dataframe tbody tr th {\n",
       "        vertical-align: top;\n",
       "    }\n",
       "\n",
       "    .dataframe thead th {\n",
       "        text-align: right;\n",
       "    }\n",
       "</style>\n",
       "<table border=\"1\" class=\"dataframe\">\n",
       "  <thead>\n",
       "    <tr style=\"text-align: right;\">\n",
       "      <th></th>\n",
       "      <th>student_id</th>\n",
       "      <th>rev</th>\n",
       "      <th>grp</th>\n",
       "    </tr>\n",
       "  </thead>\n",
       "  <tbody>\n",
       "    <tr>\n",
       "      <th>0</th>\n",
       "      <td>581585</td>\n",
       "      <td>0.0</td>\n",
       "      <td>A</td>\n",
       "    </tr>\n",
       "    <tr>\n",
       "      <th>1</th>\n",
       "      <td>5723133</td>\n",
       "      <td>0.0</td>\n",
       "      <td>A</td>\n",
       "    </tr>\n",
       "    <tr>\n",
       "      <th>2</th>\n",
       "      <td>3276743</td>\n",
       "      <td>0.0</td>\n",
       "      <td>B</td>\n",
       "    </tr>\n",
       "    <tr>\n",
       "      <th>3</th>\n",
       "      <td>4238589</td>\n",
       "      <td>0.0</td>\n",
       "      <td>A</td>\n",
       "    </tr>\n",
       "    <tr>\n",
       "      <th>4</th>\n",
       "      <td>4475369</td>\n",
       "      <td>0.0</td>\n",
       "      <td>B</td>\n",
       "    </tr>\n",
       "  </tbody>\n",
       "</table>\n",
       "</div>"
      ],
      "text/plain": [
       "   student_id  rev grp\n",
       "0      581585  0.0   A\n",
       "1     5723133  0.0   A\n",
       "2     3276743  0.0   B\n",
       "3     4238589  0.0   A\n",
       "4     4475369  0.0   B"
      ]
     },
     "execution_count": 9,
     "metadata": {},
     "output_type": "execute_result"
    }
   ],
   "source": [
    "#Там где доход rev отсутствует, заменим NaN нулями.\n",
    "active.rev = active.rev.fillna(0.0)\n",
    "active.head()"
   ]
  },
  {
   "cell_type": "code",
   "execution_count": 10,
   "metadata": {},
   "outputs": [
    {
     "data": {
      "text/html": [
       "<div>\n",
       "<style scoped>\n",
       "    .dataframe tbody tr th:only-of-type {\n",
       "        vertical-align: middle;\n",
       "    }\n",
       "\n",
       "    .dataframe tbody tr th {\n",
       "        vertical-align: top;\n",
       "    }\n",
       "\n",
       "    .dataframe thead th {\n",
       "        text-align: right;\n",
       "    }\n",
       "</style>\n",
       "<table border=\"1\" class=\"dataframe\">\n",
       "  <thead>\n",
       "    <tr style=\"text-align: right;\">\n",
       "      <th></th>\n",
       "      <th>student_id</th>\n",
       "      <th>rev</th>\n",
       "      <th>grp</th>\n",
       "    </tr>\n",
       "  </thead>\n",
       "  <tbody>\n",
       "  </tbody>\n",
       "</table>\n",
       "</div>"
      ],
      "text/plain": [
       "Empty DataFrame\n",
       "Columns: [student_id, rev, grp]\n",
       "Index: []"
      ]
     },
     "execution_count": 10,
     "metadata": {},
     "output_type": "execute_result"
    }
   ],
   "source": [
    "#Проверили на дубликаты\n",
    "active[active.duplicated()]"
   ]
  },
  {
   "cell_type": "code",
   "execution_count": 11,
   "metadata": {},
   "outputs": [
    {
     "data": {
      "text/plain": [
       "array([   0.    , 1530.    , 1900.0001, 1900.    , 1980.    ,  690.    ,\n",
       "        290.    ,  580.    ,  990.    , 2910.    ,  199.    ,  398.    ,\n",
       "       3660.    ,  840.    , 1140.    ,  590.    ,  870.    , 1180.    ,\n",
       "       1388.    ,  489.    , 2890.    , 1160.    , 2820.    , 2900.    ,\n",
       "       1039.    , 1830.    , 1729.    , 2220.    , 1050.    , 4650.    ,\n",
       "       2099.    ,  796.    , 1339.    , 2190.    , 3040.    , 3260.    ,\n",
       "       1968.    ,  880.    ,  597.    ])"
      ]
     },
     "execution_count": 11,
     "metadata": {},
     "output_type": "execute_result"
    }
   ],
   "source": [
    "active.rev.unique()"
   ]
  },
  {
   "cell_type": "markdown",
   "metadata": {},
   "source": [
    "###### Из всех уникальных значений rev одно сильно выбивается - 1900,0001. Глядя на остальные данные, это возникло явно в результате какого-то сбоя, учитывая остальные данные скорее всего это 1900, но, чтобы не терять данные, мною принято решение дальше их просто округлять"
   ]
  },
  {
   "cell_type": "markdown",
   "metadata": {},
   "source": [
    "##### Визуализируем наши данные по группам"
   ]
  },
  {
   "cell_type": "code",
   "execution_count": 12,
   "metadata": {},
   "outputs": [
    {
     "data": {
      "text/plain": [
       "<matplotlib.axes._subplots.AxesSubplot at 0x7f987b3a76d8>"
      ]
     },
     "execution_count": 12,
     "metadata": {},
     "output_type": "execute_result"
    },
    {
     "data": {
      "image/png": "[encoded data removed]",
      "text/plain": [
       "<Figure size 432x288 with 1 Axes>"
      ]
     },
     "metadata": {
      "needs_background": "light"
     },
     "output_type": "display_data"
    }
   ],
   "source": [
    "sns.boxplot(data = active.query('rev>0'), x = 'grp', y = 'rev')"
   ]
  },
  {
   "cell_type": "markdown",
   "metadata": {},
   "source": [
    "#### На первый взгляд кажется, что медиана группы А входит в доверительный интервал группы В, поэтому стат значимых различий не наблюдается. Но это будет верным при условии нормальности данных в группах и если дисперсии в них примерно одинаковы. Плюс мы наблюдаем здесь выбросы."
   ]
  },
  {
   "cell_type": "markdown",
   "metadata": {},
   "source": [
    "##### Визуализируем распределение доходов в группах"
   ]
  },
  {
   "cell_type": "code",
   "execution_count": 13,
   "metadata": {},
   "outputs": [
    {
     "data": {
      "text/plain": [
       "<seaborn.axisgrid.FacetGrid at 0x7f987b011d30>"
      ]
     },
     "execution_count": 13,
     "metadata": {},
     "output_type": "execute_result"
    },
    {
     "data": {
      "image/png": "[encoded data removed]",
      "text/plain": [
       "<Figure size 402.875x360 with 1 Axes>"
      ]
     },
     "metadata": {
      "needs_background": "light"
     },
     "output_type": "display_data"
    }
   ],
   "source": [
    "sns.displot(data= active.query('rev>0'), x = 'rev', hue = 'grp')"
   ]
  },
  {
   "cell_type": "code",
   "execution_count": 14,
   "metadata": {},
   "outputs": [],
   "source": [
    "control_df = active[(active.grp == 'A')&(active.rev > 0)]\n",
    "test_df = active[(active.grp == 'B')&(active.rev > 0)]"
   ]
  },
  {
   "cell_type": "code",
   "execution_count": 15,
   "metadata": {},
   "outputs": [
    {
     "data": {
      "image/png": "[encoded data removed]",
      "text/plain": [
       "<Figure size 1440x504 with 2 Axes>"
      ]
     },
     "metadata": {
      "needs_background": "light"
     },
     "output_type": "display_data"
    }
   ],
   "source": [
    "fig, (ax1, ax2) = plt.subplots(1, 2, figsize=(20, 7), sharex=True, sharey=True)\n",
    "ax2.set_title('Revenue distribution per client in test group', fontsize = 17)\n",
    "ax2.hist(test_df.rev, bins=20, label='test_group', color='blue')\n",
    "ax2.legend()\n",
    "\n",
    "ax1.hist(control_df.rev, bins=20, label='control_group', color='darkblue')\n",
    "ax1.legend()\n",
    "ax1.set_title('Revenue distribution per client in control group', fontsize = 17)\n",
    "plt.show()"
   ]
  },
  {
   "cell_type": "markdown",
   "metadata": {},
   "source": [
    "#### Очевидно, что данные распределены ненормально. Это также подтвержвается тестом на нормальность"
   ]
  },
  {
   "cell_type": "code",
   "execution_count": 16,
   "metadata": {},
   "outputs": [
    {
     "data": {
      "text/html": [
       "<div>\n",
       "<style scoped>\n",
       "    .dataframe tbody tr th:only-of-type {\n",
       "        vertical-align: middle;\n",
       "    }\n",
       "\n",
       "    .dataframe tbody tr th {\n",
       "        vertical-align: top;\n",
       "    }\n",
       "\n",
       "    .dataframe thead th {\n",
       "        text-align: right;\n",
       "    }\n",
       "</style>\n",
       "<table border=\"1\" class=\"dataframe\">\n",
       "  <thead>\n",
       "    <tr style=\"text-align: right;\">\n",
       "      <th></th>\n",
       "      <th>W</th>\n",
       "      <th>pval</th>\n",
       "      <th>normal</th>\n",
       "    </tr>\n",
       "  </thead>\n",
       "  <tbody>\n",
       "    <tr>\n",
       "      <th>A</th>\n",
       "      <td>30.378420</td>\n",
       "      <td>2.531687e-07</td>\n",
       "      <td>False</td>\n",
       "    </tr>\n",
       "    <tr>\n",
       "      <th>B</th>\n",
       "      <td>6.795663</td>\n",
       "      <td>3.344572e-02</td>\n",
       "      <td>False</td>\n",
       "    </tr>\n",
       "  </tbody>\n",
       "</table>\n",
       "</div>"
      ],
      "text/plain": [
       "           W          pval  normal\n",
       "A  30.378420  2.531687e-07   False\n",
       "B   6.795663  3.344572e-02   False"
      ]
     },
     "execution_count": 16,
     "metadata": {},
     "output_type": "execute_result"
    }
   ],
   "source": [
    "pg.normality(data = active.query('rev>0'), dv = 'rev', group = 'grp', method = 'normaltest')"
   ]
  },
  {
   "cell_type": "markdown",
   "metadata": {},
   "source": [
    "#### Тесты на гомоскедаститичность и  Левена подтверждают, что дисперсии одинаковы"
   ]
  },
  {
   "cell_type": "code",
   "execution_count": 17,
   "metadata": {},
   "outputs": [
    {
     "data": {
      "text/html": [
       "<div>\n",
       "<style scoped>\n",
       "    .dataframe tbody tr th:only-of-type {\n",
       "        vertical-align: middle;\n",
       "    }\n",
       "\n",
       "    .dataframe tbody tr th {\n",
       "        vertical-align: top;\n",
       "    }\n",
       "\n",
       "    .dataframe thead th {\n",
       "        text-align: right;\n",
       "    }\n",
       "</style>\n",
       "<table border=\"1\" class=\"dataframe\">\n",
       "  <thead>\n",
       "    <tr style=\"text-align: right;\">\n",
       "      <th></th>\n",
       "      <th>W</th>\n",
       "      <th>pval</th>\n",
       "      <th>equal_var</th>\n",
       "    </tr>\n",
       "  </thead>\n",
       "  <tbody>\n",
       "    <tr>\n",
       "      <th>levene</th>\n",
       "      <td>3.075682</td>\n",
       "      <td>0.080257</td>\n",
       "      <td>True</td>\n",
       "    </tr>\n",
       "  </tbody>\n",
       "</table>\n",
       "</div>"
      ],
      "text/plain": [
       "               W      pval  equal_var\n",
       "levene  3.075682  0.080257       True"
      ]
     },
     "execution_count": 17,
     "metadata": {},
     "output_type": "execute_result"
    }
   ],
   "source": [
    "pg.homoscedasticity(data = active.query('rev>0'), dv = 'rev', group = 'grp')"
   ]
  },
  {
   "cell_type": "code",
   "execution_count": 18,
   "metadata": {},
   "outputs": [
    {
     "data": {
      "text/plain": [
       "LeveneResult(statistic=3.0756816999816055, pvalue=0.08025675761347022)"
      ]
     },
     "execution_count": 18,
     "metadata": {},
     "output_type": "execute_result"
    }
   ],
   "source": [
    "ss.levene(active.query('rev>0 and grp == \"A\"').rev, active.query('rev>0 and grp == \"B\"').rev)"
   ]
  },
  {
   "cell_type": "code",
   "execution_count": null,
   "metadata": {},
   "outputs": [],
   "source": []
  },
  {
   "cell_type": "code",
   "execution_count": 19,
   "metadata": {},
   "outputs": [
    {
     "name": "stdout",
     "output_type": "stream",
     "text": [
      "Количество наблюдений в тестовой группе составляет 6803, а количество наблюдений в контрольной группе составляет 1538\n",
      "Разница наблюдений равна 5265\n",
      "Количество оплат услуг в тестовой группе составляет 314, а количество наблюдений в контрольной группе составляет 78\n",
      "Разница оплат услуг равна 236\n"
     ]
    }
   ],
   "source": [
    "n_control = active[active.grp == 'A'].grp.count()\n",
    "n_test = active[active.grp == 'B'].grp.count()\n",
    "rev_control = active[(active.grp == 'A')&(active.rev > 0)].rev.count()\n",
    "rev_test = active[(active.grp == 'B')&(active.rev > 0)].rev.count()\n",
    "print('Количество наблюдений в тестовой группе составляет {}, а количество наблюдений в контрольной группе составляет {}'.format(n_test, n_control))\n",
    "print('Разница наблюдений равна', abs(n_test - n_control))\n",
    "print('Количество оплат услуг в тестовой группе составляет {}, а количество наблюдений в контрольной группе составляет {}'.format(rev_test, rev_control))\n",
    "print('Разница оплат услуг равна', abs(rev_test - rev_control))"
   ]
  },
  {
   "cell_type": "markdown",
   "metadata": {},
   "source": [
    "#### Выведем все метрики по группам"
   ]
  },
  {
   "cell_type": "code",
   "execution_count": 20,
   "metadata": {},
   "outputs": [
    {
     "data": {
      "text/html": [
       "<div>\n",
       "<style scoped>\n",
       "    .dataframe tbody tr th:only-of-type {\n",
       "        vertical-align: middle;\n",
       "    }\n",
       "\n",
       "    .dataframe tbody tr th {\n",
       "        vertical-align: top;\n",
       "    }\n",
       "\n",
       "    .dataframe thead th {\n",
       "        text-align: right;\n",
       "    }\n",
       "</style>\n",
       "<table border=\"1\" class=\"dataframe\">\n",
       "  <thead>\n",
       "    <tr style=\"text-align: right;\">\n",
       "      <th></th>\n",
       "      <th>grp</th>\n",
       "      <th>active_users_count</th>\n",
       "      <th>payment_count</th>\n",
       "      <th>tot_revenue</th>\n",
       "      <th>CR_user_perc</th>\n",
       "      <th>ARPU</th>\n",
       "      <th>ARPPU</th>\n",
       "    </tr>\n",
       "  </thead>\n",
       "  <tbody>\n",
       "    <tr>\n",
       "      <th>0</th>\n",
       "      <td>A</td>\n",
       "      <td>1538</td>\n",
       "      <td>78</td>\n",
       "      <td>72820.0</td>\n",
       "      <td>5.1</td>\n",
       "      <td>47.3</td>\n",
       "      <td>933.6</td>\n",
       "    </tr>\n",
       "    <tr>\n",
       "      <th>1</th>\n",
       "      <td>B</td>\n",
       "      <td>6803</td>\n",
       "      <td>314</td>\n",
       "      <td>394974.0</td>\n",
       "      <td>4.6</td>\n",
       "      <td>58.1</td>\n",
       "      <td>1257.9</td>\n",
       "    </tr>\n",
       "  </tbody>\n",
       "</table>\n",
       "</div>"
      ],
      "text/plain": [
       "  grp  active_users_count  payment_count  tot_revenue  CR_user_perc  ARPU  \\\n",
       "0   A                1538             78      72820.0           5.1  47.3   \n",
       "1   B                6803            314     394974.0           4.6  58.1   \n",
       "\n",
       "    ARPPU  \n",
       "0   933.6  \n",
       "1  1257.9  "
      ]
     },
     "execution_count": 20,
     "metadata": {},
     "output_type": "execute_result"
    }
   ],
   "source": [
    "tab1 = active.groupby('grp', as_index = False).agg({'student_id':'count'}) \\\n",
    "    .rename(columns={'student_id':'active_users_count'})\n",
    "tab2 = active.query('rev>0').groupby('grp', as_index = False).agg({'rev':'count'}) \\\n",
    "    .rename(columns={'rev':'payment_count'})\n",
    "tab3 =active.groupby('grp', as_index = False).rev.sum().round(1) \\\n",
    "    .rename(columns={'rev':'tot_revenue'})\n",
    "tab = pd.merge(tab1, pd.merge(tab2, tab3))\n",
    "tab['CR_user_perc'] = (tab.payment_count / tab.active_users_count*100).round(1)\n",
    "tab['ARPU'] = (tab.tot_revenue / tab.active_users_count).round(1)\n",
    "tab['ARPPU'] = (tab.tot_revenue / tab.payment_count).round(1)\n",
    "\n",
    "tab"
   ]
  },
  {
   "cell_type": "markdown",
   "metadata": {},
   "source": [
    "#### Проверим влияет ли новая механика оплаты услуг на сайте на конверсию в покупку (возможно оплачивать стало менее удобно и поэтому конверсия снизилась или это отклонение в пределах допустимого интервала), а также на средний доход с клиента (ARPU) и средний доход с платящего клиента (ARPPU)."
   ]
  },
  {
   "cell_type": "markdown",
   "metadata": {},
   "source": [
    "##### Для начала давайте сформулируем гипотезы, которые мы сможем проверить в этом эксперименте\n",
    "##### Нулевая гипотеза (H0): Разницы между конверсими в покупку между тестовой и контрольной группами нет.\n",
    "##### Альтернативная гипотеза (H1): Разница между конверсими в покупку между тестовой и контрольной группами есть."
   ]
  },
  {
   "cell_type": "markdown",
   "metadata": {},
   "source": [
    "##### Так как для конверсий и номинативных переменных отлично работает метод Хи-квадрат Пирсона, то этим методом и воспользуемся."
   ]
  },
  {
   "cell_type": "code",
   "execution_count": 21,
   "metadata": {},
   "outputs": [],
   "source": [
    "control_df = active[active.grp == 'A']\n",
    "test_df = active[active.grp == 'B']"
   ]
  },
  {
   "cell_type": "code",
   "execution_count": 22,
   "metadata": {},
   "outputs": [],
   "source": [
    "control_payed = control_df.query('rev>0').rev.count()\n",
    "control_nonpayed = control_df.rev.count() - control_df.query('rev>0').rev.count()\n",
    "test_payed = test_df.query('rev>0').rev.count()\n",
    "test_nonpayed = test_df.rev.count() - test_df.query('rev>0').rev.count()"
   ]
  },
  {
   "cell_type": "code",
   "execution_count": 23,
   "metadata": {},
   "outputs": [
    {
     "name": "stdout",
     "output_type": "stream",
     "text": [
      "0.44547028437158964\n"
     ]
    }
   ],
   "source": [
    "T = np.array([[control_payed, control_nonpayed], [test_payed, test_nonpayed]])\n",
    "print(stats.chi2_contingency(T, correction = False)[1])"
   ]
  },
  {
   "cell_type": "markdown",
   "metadata": {},
   "source": [
    "##### Так как p-value значительно больше чем 0,05, то нулевую гипотезу мы отклонить НЕ можем. Следовательно новая механика оплат услуг никак не повлияла на снижение конверсии в оплату, это уже хорошо. Она снизилась не значительно, в пределах нормы"
   ]
  },
  {
   "cell_type": "code",
   "execution_count": null,
   "metadata": {},
   "outputs": [],
   "source": []
  },
  {
   "cell_type": "markdown",
   "metadata": {},
   "source": [
    "#### Проверим влияние новой фичи на средний доход с платящего клиента (ARPPU).\n",
    "#### Нулевая гипотеза (H0): Разницы между ARPPU в тестовой и контрольной группе нет.\n",
    "#### Альтернативная гипотеза (H1): Разница между ARPPU в тестовой и контрольной группе есть."
   ]
  },
  {
   "cell_type": "markdown",
   "metadata": {},
   "source": [
    "\n",
    "#### Для проверки гипотезы я использую U-критерий Манна Уитни, поскольку переменная rev количественная, а group категориальная. И распределения являются ненормальными. А также воспользуюсь методом bootstrap - анализа.\n"
   ]
  },
  {
   "cell_type": "code",
   "execution_count": 24,
   "metadata": {},
   "outputs": [],
   "source": [
    "test_arppu = active.query('grp == \"B\" and rev > 0').rev.sort_values()\n",
    "control_arppu = active.query('grp == \"A\" and rev > 0').rev.sort_values()"
   ]
  },
  {
   "cell_type": "code",
   "execution_count": 25,
   "metadata": {},
   "outputs": [
    {
     "name": "stdout",
     "output_type": "stream",
     "text": [
      "Статистика U: 15491.0\n",
      "p-значение: 0.0002511393831406922\n"
     ]
    }
   ],
   "source": [
    "statistic, p_value = mannwhitneyu(test_arppu, control_arppu)\n",
    "\n",
    "# Вывод результатов\n",
    "print(\"Статистика U:\", statistic)\n",
    "print(\"p-значение:\", p_value)"
   ]
  },
  {
   "cell_type": "markdown",
   "metadata": {},
   "source": [
    "#### После использования U-критерия Манна-Уитни получили p-value < 0.05. \n",
    "#### В нашем эксперименте было обнаружено статистически значимое различие между рангами среднего дохода платящих пользователей в разных группах.\n",
    "\n",
    "\n",
    "#### Проверим нашу гипотезу используя bootstrap"
   ]
  },
  {
   "cell_type": "markdown",
   "metadata": {},
   "source": [
    "##### Оценим доверительные интервалы для среднего дохода с платящего пользователя (ARPPU) для контрольной (А) и экспериментальной (В) групп"
   ]
  },
  {
   "cell_type": "code",
   "execution_count": 26,
   "metadata": {},
   "outputs": [
    {
     "data": {
      "text/plain": [
       "BootstrapResult(confidence_interval=ConfidenceInterval(low=740.9852564102564, high=1142.607051282051), standard_error=102.46364136740657)"
      ]
     },
     "execution_count": 26,
     "metadata": {},
     "output_type": "execute_result"
    }
   ],
   "source": [
    "bootstrap((control_arppu, ), np.mean, method = 'percentile')"
   ]
  },
  {
   "cell_type": "code",
   "execution_count": 27,
   "metadata": {},
   "outputs": [
    {
     "data": {
      "text/plain": [
       "BootstrapResult(confidence_interval=ConfidenceInterval(low=1170.438387181529, high=1343.3347289490446), standard_error=44.009805938982204)"
      ]
     },
     "execution_count": 27,
     "metadata": {},
     "output_type": "execute_result"
    }
   ],
   "source": [
    "bootstrap((test_arppu, ), np.mean, method = 'percentile')"
   ]
  },
  {
   "cell_type": "markdown",
   "metadata": {},
   "source": [
    "##### Доверительные интервалы не пересекаются, следовательно, можно сказать, что в нашем эксперименте были получены стат.значимые различия между ARPPU в группах А и В."
   ]
  },
  {
   "cell_type": "code",
   "execution_count": null,
   "metadata": {},
   "outputs": [],
   "source": []
  },
  {
   "cell_type": "markdown",
   "metadata": {},
   "source": [
    "#### Проверим влияние новой фичи на ARPU.\n",
    "#### Нулевая гипотеза (H0): Разницы между ARPU в тестовой и контрольной группе нет.\n",
    "#### Альтернативная гипотеза (H1): Разница между ARPU в тестовой и контрольной группе есть."
   ]
  },
  {
   "cell_type": "code",
   "execution_count": null,
   "metadata": {},
   "outputs": [],
   "source": []
  },
  {
   "cell_type": "code",
   "execution_count": 28,
   "metadata": {},
   "outputs": [],
   "source": [
    "test_arpu = active.query('grp == \"B\"').rev\n",
    "control_arpu = active.query('grp == \"A\"').rev"
   ]
  },
  {
   "cell_type": "code",
   "execution_count": 29,
   "metadata": {},
   "outputs": [
    {
     "data": {
      "text/plain": [
       "BootstrapResult(confidence_interval=ConfidenceInterval(low=33.53016905071522, high=62.70666449934977), standard_error=7.413696455495312)"
      ]
     },
     "execution_count": 29,
     "metadata": {},
     "output_type": "execute_result"
    }
   ],
   "source": [
    "bootstrap((control_arpu, ), np.mean, method = 'percentile')"
   ]
  },
  {
   "cell_type": "code",
   "execution_count": 30,
   "metadata": {},
   "outputs": [
    {
     "data": {
      "text/plain": [
       "BootstrapResult(confidence_interval=ConfidenceInterval(low=50.763163816698516, high=65.5055863729237), standard_error=3.7606182540402244)"
      ]
     },
     "execution_count": 30,
     "metadata": {},
     "output_type": "execute_result"
    }
   ],
   "source": [
    "bootstrap((test_arpu, ), np.mean, method = 'percentile')"
   ]
  },
  {
   "cell_type": "markdown",
   "metadata": {},
   "source": [
    "##### Доверительные интервалы пересекаются, следовательно, можно сказать, что в нашем эксперименте не выявлено стат.значимых различий между ARPU в группах. Следовательно мы принимаем нулевую гипотезу."
   ]
  },
  {
   "cell_type": "code",
   "execution_count": null,
   "metadata": {},
   "outputs": [],
   "source": []
  },
  {
   "cell_type": "markdown",
   "metadata": {},
   "source": [
    "## Новую механику оплаты на всех пользователей стоит запускать, так как она увеличивает стат значимо средний доход с платящего клиента (ARPPU) между группами. Фичу раскатываем.\n",
    "\n",
    "##### Но если бы я проводила тест, я бы сделала выборки групп с одинаковым (или примерно одинаковым) количеством клиентов."
   ]
  },
  {
   "cell_type": "code",
   "execution_count": null,
   "metadata": {},
   "outputs": [],
   "source": []
  },
  {
   "cell_type": "code",
   "execution_count": null,
   "metadata": {},
   "outputs": [],
   "source": []
  },
  {
   "cell_type": "markdown",
   "metadata": {},
   "source": [
    "### Задание 2. SQL"
   ]
  },
  {
   "cell_type": "code",
   "execution_count": 31,
   "metadata": {},
   "outputs": [],
   "source": [
    "connection = {'database': 'default',\n",
    "             'host': 'http://clickhouse.lab.karpov.courses',\n",
    "             'user': 'student',\n",
    "             'password': 'dpo_python_2020'}"
   ]
  },
  {
   "cell_type": "markdown",
   "metadata": {},
   "source": [
    "##### 2.1 Очень усердные ученики."
   ]
  },
  {
   "cell_type": "code",
   "execution_count": 32,
   "metadata": {},
   "outputs": [],
   "source": [
    "query = \"\"\"\n",
    "with df as (SELECT toUInt64OrNull(st_id) AS st_id,  toDateTime(timest) as timest, correct, subject\n",
    "FROM default.peas)\n",
    "\n",
    "select month, count(distinct st_id) as clever_students_count\n",
    "from(\n",
    "select toStartOfMonth(timest) as month, st_id, count(subject) as peas_number\n",
    "from df\n",
    "where correct = 1\n",
    "group by month, st_id\n",
    "having peas_number >= 20)\n",
    "group by month\n",
    "\n",
    "\"\"\""
   ]
  },
  {
   "cell_type": "code",
   "execution_count": 33,
   "metadata": {},
   "outputs": [
    {
     "data": {
      "text/html": [
       "<div>\n",
       "<style scoped>\n",
       "    .dataframe tbody tr th:only-of-type {\n",
       "        vertical-align: middle;\n",
       "    }\n",
       "\n",
       "    .dataframe tbody tr th {\n",
       "        vertical-align: top;\n",
       "    }\n",
       "\n",
       "    .dataframe thead th {\n",
       "        text-align: right;\n",
       "    }\n",
       "</style>\n",
       "<table border=\"1\" class=\"dataframe\">\n",
       "  <thead>\n",
       "    <tr style=\"text-align: right;\">\n",
       "      <th></th>\n",
       "      <th>month</th>\n",
       "      <th>clever_students_count</th>\n",
       "    </tr>\n",
       "  </thead>\n",
       "  <tbody>\n",
       "    <tr>\n",
       "      <th>0</th>\n",
       "      <td>2021-10-01</td>\n",
       "      <td>136</td>\n",
       "    </tr>\n",
       "  </tbody>\n",
       "</table>\n",
       "</div>"
      ],
      "text/plain": [
       "       month  clever_students_count\n",
       "0 2021-10-01                    136"
      ]
     },
     "execution_count": 33,
     "metadata": {},
     "output_type": "execute_result"
    }
   ],
   "source": [
    "df = ph.read_clickhouse(query, connection = connection)\n",
    "df"
   ]
  },
  {
   "cell_type": "code",
   "execution_count": 34,
   "metadata": {},
   "outputs": [
    {
     "name": "stdout",
     "output_type": "stream",
     "text": [
      "Количестве очень усердных студентов в ['October'][2021] было 136.\n"
     ]
    }
   ],
   "source": [
    "count = df.loc[0, 'clever_students_count']\n",
    "name_month = df.month.dt.month_name().values\n",
    "year = df.month.dt.year.values\n",
    "print(f'Количестве очень усердных студентов в {str(name_month) + str(year)} было {count}.')"
   ]
  },
  {
   "cell_type": "code",
   "execution_count": null,
   "metadata": {},
   "outputs": [],
   "source": []
  },
  {
   "cell_type": "markdown",
   "metadata": {},
   "source": [
    "### 2.2 Оптимизация воронки"
   ]
  },
  {
   "cell_type": "code",
   "execution_count": 35,
   "metadata": {},
   "outputs": [],
   "source": [
    "query2 = \"\"\"\n",
    "WITH \n",
    "t1 AS (\n",
    "    SELECT toUInt64OrNull(st_id) AS st_id, test_grp\n",
    "    FROM default.studs\n",
    "),\n",
    "\n",
    "t2 AS (\n",
    "    SELECT toUInt64OrNull(st_id) AS st_id, toDateTime(sale_time) AS sale_time, money, subject AS subject2\n",
    "    FROM default.final_project_check\n",
    "),\n",
    "\n",
    "t3 as (\n",
    "    select toUInt64OrNull(st_id) AS st_id, toDateTime(timest) AS timest, correct, subject as subject1\n",
    "    from default.peas\n",
    "), \n",
    "\n",
    "t3_math as (\n",
    "    select toUInt64OrNull(st_id) AS st_id, toDateTime(timest) AS timest, correct, subject as subject1\n",
    "    from default.peas\n",
    "    where subject = 'Math'),\n",
    "\n",
    "rev AS(\n",
    "    SELECT t1.st_id, test_grp, sale_time, money, subject2\n",
    "    FROM t1\n",
    "    LEFT JOIN t2 \n",
    "    USING(st_id)),\n",
    "\n",
    "arpu_cr as (\n",
    "    select test_grp, round(sum(money)/ count(distinct st_id),2) as ARPU,\n",
    "        round(count(distinct st_id) filter(where money != 0) /count(distinct st_id) *100, 2) as CR\n",
    "    from rev\n",
    "    group by test_grp),\n",
    "    \n",
    "active_users as (\n",
    "    SELECT st_id, test_grp, sum(correct) as cor_times\n",
    "    from t1\n",
    "    left join t3\n",
    "    using(st_id)\n",
    "    group by st_id, test_grp\n",
    "    having cor_times > 10),\n",
    "    \n",
    "active_math_stud as (\n",
    "    SELECT st_id, test_grp, subject1, sum(correct) as cor_num\n",
    "    from t1\n",
    "    join t3_math\n",
    "    using(st_id)\n",
    "    group by st_id, test_grp, subject1\n",
    "    having cor_num >=2),\n",
    "    \n",
    "arpau_cr as (\n",
    "    select test_grp, round(sum(money)/count(distinct st_id),2) as ARPAU, \n",
    "        round(count(distinct st_id) filter(where money != 0)/ count(distinct st_id)*100, 2) as active_users_CR\n",
    "    from active_users \n",
    "    left join t2  \n",
    "    using(st_id)\n",
    "    group by test_grp),\n",
    "    \n",
    "math_students_cr as (select test_grp, \n",
    "    round(count(distinct st_id) filter(where money != 0)/ count(distinct st_id)*100, 2) as active_math_students_CR\n",
    "    from active_math_stud \n",
    "    left join t2  \n",
    "    using(st_id)\n",
    "    group by test_grp)\n",
    "    \n",
    "select test_grp, ARPU, ARPAU, CR, active_users_CR, active_math_students_CR\n",
    "from \n",
    "    (select *\n",
    "    from arpu_cr\n",
    "    join arpau_cr\n",
    "    using(test_grp))t1\n",
    "join math_students_cr\n",
    "using (test_grp)\n",
    "    \n",
    "\"\"\" "
   ]
  },
  {
   "cell_type": "code",
   "execution_count": 36,
   "metadata": {},
   "outputs": [
    {
     "data": {
      "text/html": [
       "<div>\n",
       "<style scoped>\n",
       "    .dataframe tbody tr th:only-of-type {\n",
       "        vertical-align: middle;\n",
       "    }\n",
       "\n",
       "    .dataframe tbody tr th {\n",
       "        vertical-align: top;\n",
       "    }\n",
       "\n",
       "    .dataframe thead th {\n",
       "        text-align: right;\n",
       "    }\n",
       "</style>\n",
       "<table border=\"1\" class=\"dataframe\">\n",
       "  <thead>\n",
       "    <tr style=\"text-align: right;\">\n",
       "      <th></th>\n",
       "      <th>test_grp</th>\n",
       "      <th>ARPU</th>\n",
       "      <th>ARPAU</th>\n",
       "      <th>CR</th>\n",
       "      <th>active_users_CR</th>\n",
       "      <th>active_math_students_CR</th>\n",
       "    </tr>\n",
       "  </thead>\n",
       "  <tbody>\n",
       "    <tr>\n",
       "      <th>0</th>\n",
       "      <td>control</td>\n",
       "      <td>4540.98</td>\n",
       "      <td>10393.70</td>\n",
       "      <td>4.92</td>\n",
       "      <td>11.02</td>\n",
       "      <td>10.20</td>\n",
       "    </tr>\n",
       "    <tr>\n",
       "      <th>1</th>\n",
       "      <td>pilot</td>\n",
       "      <td>11508.47</td>\n",
       "      <td>29739.58</td>\n",
       "      <td>10.85</td>\n",
       "      <td>26.04</td>\n",
       "      <td>14.29</td>\n",
       "    </tr>\n",
       "  </tbody>\n",
       "</table>\n",
       "</div>"
      ],
      "text/plain": [
       "  test_grp      ARPU     ARPAU     CR  active_users_CR  \\\n",
       "0  control   4540.98  10393.70   4.92            11.02   \n",
       "1    pilot  11508.47  29739.58  10.85            26.04   \n",
       "\n",
       "   active_math_students_CR  \n",
       "0                    10.20  \n",
       "1                    14.29  "
      ]
     },
     "execution_count": 36,
     "metadata": {},
     "output_type": "execute_result"
    }
   ],
   "source": [
    "df2 = ph.read_clickhouse(query2, connection = connection)\n",
    "df2"
   ]
  },
  {
   "cell_type": "code",
   "execution_count": null,
   "metadata": {},
   "outputs": [],
   "source": []
  },
  {
   "cell_type": "code",
   "execution_count": null,
   "metadata": {},
   "outputs": [],
   "source": []
  },
  {
   "cell_type": "markdown",
   "metadata": {},
   "source": [
    "### Задание 3. Python"
   ]
  },
  {
   "cell_type": "markdown",
   "metadata": {},
   "source": [
    "#### Задание 3.1"
   ]
  },
  {
   "cell_type": "code",
   "execution_count": 37,
   "metadata": {},
   "outputs": [],
   "source": [
    "file = 'Проект_2_group_add.csv' #Введем путь к дополнительному файлу, который надо подгрузить\n",
    "\n",
    "# Остальные наши файлы\n",
    "groups = pd.read_csv('Проект_2_groups.csv', sep = ';')\n",
    "active_studs = pd.read_csv('Проект_2_active_studs.csv')\n",
    "checks = pd.read_csv('Проект_2_checks.csv', sep = ';')"
   ]
  },
  {
   "cell_type": "code",
   "execution_count": 39,
   "metadata": {},
   "outputs": [],
   "source": [
    "\n",
    "def load_file(file_path): # На место входного file_path будем вставлять путь к файлу file\n",
    "    data_add = pd.read_csv(file_path, header = None, skiprows = [0], names = ['id', 'grp'])\n",
    "     # Объединение данных\n",
    "    merged_data = pd.concat([groups, data_add], ignore_index=True)\n",
    "    merged_data = merged_data.drop_duplicates()\n",
    "    #Переименуем столбец id на student_id\n",
    "    merged_data.rename(columns = {'id':'student_id'}, inplace = True)\n",
    "    active = pd.merge(active_studs, checks, how = 'left')\n",
    "    active = pd.merge(active, merged_data, how = 'left')\n",
    "    tab1 = active.groupby('grp', as_index = False).agg({'student_id':'count'}) \\\n",
    "        .rename(columns={'student_id':'active_users_count'})\n",
    "    tab2 = active.query('rev>0').groupby('grp', as_index = False).agg({'rev':'count'}) \\\n",
    "        .rename(columns={'rev':'payment_count'})\n",
    "    tab3 =active.groupby('grp', as_index = False).rev.sum().round(1) \\\n",
    "        .rename(columns={'rev':'tot_revenue'})\n",
    "    tab = pd.merge(tab1, pd.merge(tab2, tab3))\n",
    "    tab['CR_user_perc'] = (tab.payment_count / tab.active_users_count*100).round(1)\n",
    "    tab['ARPU'] = (tab.tot_revenue / tab.active_users_count).round(1)\n",
    "    tab['ARPPU'] = (tab.tot_revenue / tab.payment_count).round(1)\n",
    "    \n",
    "    return tab"
   ]
  },
  {
   "cell_type": "code",
   "execution_count": 40,
   "metadata": {},
   "outputs": [
    {
     "data": {
      "text/html": [
       "<div>\n",
       "<style scoped>\n",
       "    .dataframe tbody tr th:only-of-type {\n",
       "        vertical-align: middle;\n",
       "    }\n",
       "\n",
       "    .dataframe tbody tr th {\n",
       "        vertical-align: top;\n",
       "    }\n",
       "\n",
       "    .dataframe thead th {\n",
       "        text-align: right;\n",
       "    }\n",
       "</style>\n",
       "<table border=\"1\" class=\"dataframe\">\n",
       "  <thead>\n",
       "    <tr style=\"text-align: right;\">\n",
       "      <th></th>\n",
       "      <th>grp</th>\n",
       "      <th>active_users_count</th>\n",
       "      <th>payment_count</th>\n",
       "      <th>tot_revenue</th>\n",
       "      <th>CR_user_perc</th>\n",
       "      <th>ARPU</th>\n",
       "      <th>ARPPU</th>\n",
       "    </tr>\n",
       "  </thead>\n",
       "  <tbody>\n",
       "    <tr>\n",
       "      <th>0</th>\n",
       "      <td>A</td>\n",
       "      <td>1538</td>\n",
       "      <td>78</td>\n",
       "      <td>72820.0</td>\n",
       "      <td>5.1</td>\n",
       "      <td>47.3</td>\n",
       "      <td>933.6</td>\n",
       "    </tr>\n",
       "    <tr>\n",
       "      <th>1</th>\n",
       "      <td>B</td>\n",
       "      <td>6803</td>\n",
       "      <td>314</td>\n",
       "      <td>394974.0</td>\n",
       "      <td>4.6</td>\n",
       "      <td>58.1</td>\n",
       "      <td>1257.9</td>\n",
       "    </tr>\n",
       "  </tbody>\n",
       "</table>\n",
       "</div>"
      ],
      "text/plain": [
       "  grp  active_users_count  payment_count  tot_revenue  CR_user_perc  ARPU  \\\n",
       "0   A                1538             78      72820.0           5.1  47.3   \n",
       "1   B                6803            314     394974.0           4.6  58.1   \n",
       "\n",
       "    ARPPU  \n",
       "0   933.6  \n",
       "1  1257.9  "
      ]
     },
     "execution_count": 40,
     "metadata": {},
     "output_type": "execute_result"
    }
   ],
   "source": [
    "load_file(file)"
   ]
  },
  {
   "cell_type": "code",
   "execution_count": 41,
   "metadata": {},
   "outputs": [],
   "source": [
    "metrics = load_file(file)"
   ]
  },
  {
   "cell_type": "code",
   "execution_count": null,
   "metadata": {},
   "outputs": [],
   "source": []
  },
  {
   "cell_type": "markdown",
   "metadata": {},
   "source": [
    "#### Задание 3.2"
   ]
  },
  {
   "cell_type": "code",
   "execution_count": 42,
   "metadata": {},
   "outputs": [
    {
     "data": {
      "text/html": [
       "<div>\n",
       "<style scoped>\n",
       "    .dataframe tbody tr th:only-of-type {\n",
       "        vertical-align: middle;\n",
       "    }\n",
       "\n",
       "    .dataframe tbody tr th {\n",
       "        vertical-align: top;\n",
       "    }\n",
       "\n",
       "    .dataframe thead th {\n",
       "        text-align: right;\n",
       "    }\n",
       "</style>\n",
       "<table border=\"1\" class=\"dataframe\">\n",
       "  <thead>\n",
       "    <tr style=\"text-align: right;\">\n",
       "      <th></th>\n",
       "      <th>grp</th>\n",
       "      <th>active_users_count</th>\n",
       "      <th>payment_count</th>\n",
       "      <th>tot_revenue</th>\n",
       "      <th>CR_user_perc</th>\n",
       "      <th>ARPU</th>\n",
       "      <th>ARPPU</th>\n",
       "    </tr>\n",
       "  </thead>\n",
       "  <tbody>\n",
       "    <tr>\n",
       "      <th>0</th>\n",
       "      <td>A</td>\n",
       "      <td>1538</td>\n",
       "      <td>78</td>\n",
       "      <td>72820.0</td>\n",
       "      <td>5.1</td>\n",
       "      <td>47.3</td>\n",
       "      <td>933.6</td>\n",
       "    </tr>\n",
       "    <tr>\n",
       "      <th>1</th>\n",
       "      <td>B</td>\n",
       "      <td>6803</td>\n",
       "      <td>314</td>\n",
       "      <td>394974.0</td>\n",
       "      <td>4.6</td>\n",
       "      <td>58.1</td>\n",
       "      <td>1257.9</td>\n",
       "    </tr>\n",
       "  </tbody>\n",
       "</table>\n",
       "</div>"
      ],
      "text/plain": [
       "  grp  active_users_count  payment_count  tot_revenue  CR_user_perc  ARPU  \\\n",
       "0   A                1538             78      72820.0           5.1  47.3   \n",
       "1   B                6803            314     394974.0           4.6  58.1   \n",
       "\n",
       "    ARPPU  \n",
       "0   933.6  \n",
       "1  1257.9  "
      ]
     },
     "execution_count": 42,
     "metadata": {},
     "output_type": "execute_result"
    }
   ],
   "source": [
    "metrics = load_file(file)\n",
    "metrics"
   ]
  },
  {
   "cell_type": "code",
   "execution_count": 49,
   "metadata": {},
   "outputs": [],
   "source": [
    "def plot_metrics(metrics):\n",
    "    fig, (ax1, ax2, ax3)  = plt.subplots(1, 3, figsize=(20, 7))\n",
    "    \n",
    "    sns.barplot(data=metrics, y='CR_user_perc', x='grp', alpha=0.7, ax=ax1)\n",
    "    sns.despine()\n",
    "    ax1.set_title('CR_user_perc by groups \\n', fontsize=17)\n",
    "    \n",
    "    sns.barplot(data=metrics, y='ARPU', x='grp', alpha=0.7, ax=ax2)\n",
    "    sns.despine()\n",
    "    ax2.set_title('ARPU by groups \\n', fontsize=17)\n",
    "    \n",
    "    sns.barplot(data=metrics, y='ARPPU', x='grp', alpha=0.7, ax=ax3)\n",
    "    sns.despine()\n",
    "    ax3.set_title('ARPPU by groups \\n', fontsize=17)\n",
    "\n",
    "    plt.show()"
   ]
  },
  {
   "cell_type": "code",
   "execution_count": 50,
   "metadata": {},
   "outputs": [
    {
     "data": {
      "image/png": "[encoded data removed]",
      "text/plain": [
       "<Figure size 1440x504 with 3 Axes>"
      ]
     },
     "metadata": {
      "needs_background": "light"
     },
     "output_type": "display_data"
    }
   ],
   "source": [
    "plot_metrics(metrics)"
   ]
  },
  {
   "cell_type": "code",
   "execution_count": null,
   "metadata": {},
   "outputs": [],
   "source": []
  },
  {
   "cell_type": "code",
   "execution_count": null,
   "metadata": {},
   "outputs": [],
   "source": []
  }
 ],
 "metadata": {
  "kernelspec": {
   "display_name": "Python 3",
   "language": "python",
   "name": "python3"
  },
  "language_info": {
   "codemirror_mode": {
    "name": "ipython",
    "version": 3
   },
   "file_extension": ".py",
   "mimetype": "text/x-python",
   "name": "python",
   "nbconvert_exporter": "python",
   "pygments_lexer": "ipython3",
   "version": "3.7.3"
  }
 },
 "nbformat": 4,
 "nbformat_minor": 4
}
